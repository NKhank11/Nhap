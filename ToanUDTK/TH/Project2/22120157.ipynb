{
 "cells": [
  {
   "cell_type": "markdown",
   "id": "d5f2114a-d1bc-4778-a8ee-bf84268e0d2b",
   "metadata": {},
   "source": [
    "# TOÁN ỨNG DỤNG THỐNG KÊ\n",
    "### Lớp: 22_2\n",
    "### MSSV: 22120157\n",
    "### Họ tên: Nguyễn Nam Khánh\n",
    "### Project 2: Gauss-Jordan"
   ]
  },
  {
   "cell_type": "markdown",
   "id": "1f6a37e8-8c27-4ba6-b612-18ed18c72675",
   "metadata": {},
   "source": [
    "## 1. Viết hàm\n",
    "<p>Viết hàm inverse(A), trong đó</p>\n",
    "<li>Input: A là ma trận vuông.</li>\n",
    "<li>\n",
    "    Output: Ma trận nghịch đảo của ma trận A ban đầu (nếu có). Trường hợp không có ma trận nghịch đảo sẽ hiện thông báo \n",
    "    \"Ma trận không khả nghịch\"\n",
    "</li>"
   ]
  },
  {
   "cell_type": "markdown",
   "id": "f5285d33-d0b6-45d0-8de8-35586da20727",
   "metadata": {},
   "source": [
    "### Yêu cầu:\n",
    "<p>Phải sử dụng thuật toán Gauss-Jordan để tìm ma trận nghịch đảo. Không được sử dụng hàm có sẵn của thư viện để tìm ma trận nghịch đảo</p>"
   ]
  },
  {
   "cell_type": "markdown",
   "id": "30e77b13-3141-4b84-b9ac-a9c8daa46039",
   "metadata": {},
   "source": [
    "### Giải thuật\n",
    "<li><strong>Bước 1: </strong>Tạo ma trận $(A|In)$ với n là hạng của ma trận A, $In$ là ma trận đơn vị </li>\n",
    "<br>\n",
    "<p>Thực hiện các bước sau cho cột thứ i, i=1,2,...n</p>\n",
    "<li>\n",
    "    <strong>Bước 2: </strong>Kiểm tra các số hạng từ dòng i đến dòng n của cột thứ i. Nếu chúng gồm toàn số 0, kết luận ma trận A không khả nghịch và giải thuật chấm dứt. Ngược lại, đổi chỗ hai dòng, nếu cần thiết, để đưa số hạng khác 0 nào đó ở dưới dòng thứ j về dòng thứ i.\n",
    "</li>\n",
    "<br>\n",
    "<li>\n",
    "    <strong>Bước 3: </strong>Với số hạng ở dòng thứ i là a≠0, nhân dòng i với 1/a để nhận được số 1 (nằm trên đường chéo của A).\n",
    "</li>\n",
    "<br>\n",
    "<li>\n",
    "    <strong>Bước 4: </strong>Cộng một bội số thích hợp của dòng i với các dòng khác dòng i để biến các số hạng trên cột i về số 0 (trừ số hạng nằm ở dòng i). Trở lại bước 2 cho dòng kế, i = i + 1\n",
    "Kết thúc giải thuật , ta nhận được ma trận $(In|A^{-1})$.\n",
    "</li>"
   ]
  },
  {
   "cell_type": "code",
   "execution_count": 16,
   "id": "d1ad4d41-b7f2-4cb5-8112-4611560eb916",
   "metadata": {},
   "outputs": [],
   "source": [
    "import numpy as np\n",
    "np.set_printoptions(suppress=True)  # Không hiển thị số thực theo dạng 1e-xx\n",
    "\n",
    "def inverse(A):\n",
    "    #Tạo ma trận đơn vị kích thước bằng ma trận vuông A\n",
    "    I = np.eye(A.shape[0])\n",
    "    #Tạo ma trận bổ sung B = (A|I)\n",
    "    B = np.hstack([A, I])\n",
    "    rows, cols =  B.shape\n",
    "    for c in range(cols):   # Duyệt qua từng cột\n",
    "        if np.all(B[:, c] == 0):    # Nếu tất cả các phần tử trong cột c đều bằng 0 thì kết thúc\n",
    "            return \"Ma tran khong kha nghich\"\n",
    "\n",
    "        pivot = None\n",
    "        for r in range(c, rows):    # Tìm phần tử pivot khác 0 đầu tiên trong cột c\n",
    "            if B[r, c] != 0:\n",
    "                pivot = r\n",
    "                break\n",
    "\n",
    "        if pivot is None:  \n",
    "            continue\n",
    "\n",
    "        # Hoán vị dòng chứa pivot lên vị trí của dòng c\n",
    "        B[[c, pivot]] = B[[pivot, c]]\n",
    "        \n",
    "        # Nhân giá trị của dòng chứa pivot cho 1/pivot\n",
    "        B[c] = B[c] / B[c, c]\n",
    "\n",
    "        # Biến các phần tử trên dưới pivot về 0\n",
    "        for r in range(rows):   \n",
    "            if r == c:\n",
    "                continue\n",
    "            factor = B[r, c] / B[c, c]\n",
    "            B[r] = B[r] -  factor * B[c]\n",
    "\n",
    "    #Nếu ma trận B lúc này có dạng [I, A^-1] thì trả về ma trận nghịch đảo\n",
    "    if np.all(B[:, :cols//2] == I):\n",
    "        return B[:, cols//2:]\n",
    "    else:\n",
    "        return \"Ma tran khong kha nghich\"\n",
    "\n",
    "            \n"
   ]
  },
  {
   "cell_type": "markdown",
   "id": "de09e86c-bb46-46c9-8787-9cc41e278c7d",
   "metadata": {},
   "source": [
    "### Ý tưởng thực hiện dựa trên giải thuật\n",
    "<p>Ta sẽ viết hàm inverse(A) với A là ma trận vuông, trong hàm</p>\n",
    "- Ta sẽ tạo ma trận mở rộng B = $(A|In)$\n",
    "<p>Tiến hành duyệt qua các cột của ma trận B (các \"-\" dưới đây đều nằm trong vòng lặp)</p>\n",
    "- Nếu cột đang xét có các phần tử đều bằng 0 thì trả về ma trận không khả nghịch. Nếu không thì đi tìm phần tử pivot khác 0 đầu\n",
    "tiên và hoán vị dòng đang xét với dòng chứa phần tử pivot đó.\n",
    "<br>\n",
    "- Nhân pivot với 1/pivot để được phần tử 1 (là phần tử trên đường chéo chính của A)\n",
    "<br>\n",
    "- Duyệt qua từng hàng (trừ hàng chứa pivot) và cộng/trừ số k thích hợp để phần tử ở hàng đó bằng 0\n",
    "<br>\n",
    "<p>\n",
    "    Ra khỏi vòng lặp, lúc này nếu ma trận B có nửa ma trận vuông đầu của B là ma trận đơn vị In thì nửa ma trận vuông sau là $A^-1$,\n",
    "    nếu không thì ma trận không khả nghịch\n",
    "</p>"
   ]
  },
  {
   "cell_type": "markdown",
   "id": "9bd0f32e-0ffd-4e23-a402-8dd40c498d51",
   "metadata": {},
   "source": [
    "## 2. In kết quả, đối chiếu với dùng thư viện"
   ]
  },
  {
   "cell_type": "code",
   "execution_count": 20,
   "id": "7df48885-21b2-45c2-811c-60012dfaf38f",
   "metadata": {},
   "outputs": [
    {
     "name": "stdout",
     "output_type": "stream",
     "text": [
      "Ma tran nghich dao khong dung thu vien numpy: \n",
      "\n",
      "[[ 0.31754177  0.05992116 -0.19816888  0.31437315]\n",
      " [ 0.49739593 -0.09703248 -0.33549732  0.40015007]\n",
      " [ 0.09776151 -0.03766077  0.15748886 -0.17087816]\n",
      " [-0.45977073  0.02069742  0.17784843 -0.14216139]]\n",
      "\n",
      "\n",
      "Ma tran nghich dao dung thu vien numpy: \n",
      "[[ 0.31754177  0.05992116 -0.19816888  0.31437315]\n",
      " [ 0.49739593 -0.09703248 -0.33549732  0.40015007]\n",
      " [ 0.09776151 -0.03766077  0.15748886 -0.17087816]\n",
      " [-0.45977073  0.02069742  0.17784843 -0.14216139]]\n"
     ]
    }
   ],
   "source": [
    "# A = np.array(\n",
    "#     [[1, 1.5, -1.2],\n",
    "#     [2, 3.7, 8],\n",
    "#     [3.5, 2.5, 4]]\n",
    "# )\n",
    "\n",
    "\n",
    "A = np.array(\n",
    "    [[1, -0.5, 2, -1.6],\n",
    "     [5, -7, -3.2, -4.8],\n",
    "     [6, 2, 8.9, 8.2],\n",
    "     [5, 3.1, 4.2, 7.7]]\n",
    ")\n",
    "\n",
    "# A = np.array(\n",
    "#     [[-1, 3, -4],\n",
    "#      [2, 4, 1],\n",
    "#      [-4, 2, -9]]\n",
    "# )\n",
    "\n",
    "# A = np.array(\n",
    "#     [[1, 2, 3, 4],\n",
    "#      [5, 6, 7, 8],\n",
    "#      [9, 10, 11, 12],\n",
    "#      [13, 14, 15, 16]]\n",
    "# )\n",
    "\n",
    "\n",
    "#Kiểm tra nếu A là ma trận vuông thì mới in\n",
    "if A.shape[0] == A.shape[1]:\n",
    "    print(\"Ma tran nghich dao khong dung thu vien numpy:\")\n",
    "    print(inverse(A))\n",
    "    print(\"\\n\")\n",
    "\n",
    "print(\"Ma tran nghich dao dung thu vien numpy:\")\n",
    "det = np.linalg.det(A)  # Tính định thức của ma trận A\n",
    "\n",
    "if np.isclose(det, 0):  \n",
    "    print(\"Ma tran khong kha nghich\")\n",
    "else:\n",
    "    invA = np.linalg.inv(A)\n",
    "    print(invA)"
   ]
  }
 ],
 "metadata": {
  "kernelspec": {
   "display_name": "Python 3 (ipykernel)",
   "language": "python",
   "name": "python3"
  },
  "language_info": {
   "codemirror_mode": {
    "name": "ipython",
    "version": 3
   },
   "file_extension": ".py",
   "mimetype": "text/x-python",
   "name": "python",
   "nbconvert_exporter": "python",
   "pygments_lexer": "ipython3",
   "version": "3.11.7"
  }
 },
 "nbformat": 4,
 "nbformat_minor": 5
}
