{
 "cells": [
  {
   "cell_type": "markdown",
   "id": "946e023e-4e74-4740-88e2-fecf98e1e338",
   "metadata": {},
   "source": [
    "# TOÁN ỨNG DỤNG THỐNG KÊ\n",
    "### Lớp: 22_2\n",
    "### MSSV: 22120157\n",
    "### Họ tên: Nguyễn Nam Khánh\n",
    "### Project 3: Gram-Schmidt"
   ]
  },
  {
   "cell_type": "markdown",
   "id": "76649fcd-76ba-4fe9-a9b6-61fa65b07d66",
   "metadata": {},
   "source": [
    "## 1. Viết chương trình in ra ma trận Q và R được phân rã từ ma trận A\n",
    "<li>Input: A là ma trận có thể phân rã QR.</li>\n",
    "<li>\n",
    "    Output: Ma trận Q. Sau đó sử dụng đẳng thức A = QR để tìm ma trận R\n",
    "</li>"
   ]
  },
  {
   "cell_type": "markdown",
   "id": "6386a588-2eae-41df-ac4a-a3f1f4ce982d",
   "metadata": {},
   "source": [
    "### Yêu cầu:\n",
    "<p>Phải sử dụng thuật toán Gram-Schmidt để phân rã ma trận. Không được sử dụng hàm có sẵn của thư viện để thực hiện phân rã QR</p>"
   ]
  },
  {
   "cell_type": "markdown",
   "id": "49e3eedd-84cd-4771-ad54-5af22b48d1c4",
   "metadata": {},
   "source": [
    "### Giải thuật\n",
    "<p><strong>Bước 1: </strong>Lấy kích thước m, n của ma trận A sau đó khởi tạo ma trận Q kích thước m x n để lưu các vector trực chuẩn hóa và ma trận R kích thước n x n để lưu hệ số các phép biến đổi</p>\n",
    "<p>Thực hiện các bước 2- 6 sau cho các cột i = 1, 2...n</p>\n",
    "<p><strong>Bước 2: </strong>Gán vector của cột thứ i của ma trận A cho vector v\n",
    "</p>\n",
    "<p><strong>Bước 3: </strong>Duyệt qua các cột từ j = 0 đến j = i - 1\n",
    "    <li>Tính Rji bằng tích vô hướng của vector cột thứ j của Q và vector cột thứ i của A</li>\n",
    "    <li>Cập nhật vector v = v - Rji * vector cột thứ j của Q</li>\n",
    "</p>\n",
    "<p><strong>Bước 5: </strong>Tính chuẩn vector cột thứ i của A và gán vào Rii của ma trận R</p>\n",
    "<p><strong>Bước 6: </strong>Trực chuẩn hóa vector cột thứ i của A và gán vào vector cột thứ i của Q</p>\n",
    "<p><strong>Bước 7: </strong>Trả về ma trận Q, R</p>\n"
   ]
  },
  {
   "cell_type": "code",
   "execution_count": 31,
   "id": "43baef4e-f22e-4ae4-80ea-57521d091e22",
   "metadata": {},
   "outputs": [
    {
     "name": "stdout",
     "output_type": "stream",
     "text": [
      "Ma trận A:\n",
      "[[ 1  1  2]\n",
      " [ 2 -1  1]\n",
      " [-2  4  1]]\n",
      "\n",
      "Ma trận Q:\n",
      "[[ 0.33333333  0.66666667  0.66666667]\n",
      " [ 0.66666667  0.33333333 -0.66666667]\n",
      " [-0.66666667  0.66666667 -0.33333333]]\n",
      "\n",
      "Ma trận R:\n",
      "[[ 3.         -3.          0.66666667]\n",
      " [ 0.          3.          2.33333333]\n",
      " [ 0.          0.          0.33333333]]\n"
     ]
    }
   ],
   "source": [
    "import numpy as np\n",
    "np.set_printoptions(suppress=True)  # Không hiển thị số thực dạng scientific\n",
    "def QR_decomposition(A):\n",
    "    # Lấy số hàng và cột của ma trận A\n",
    "    m, n = A.shape\n",
    "    \n",
    "    # Khởi tạo ma trận Q và R\n",
    "    Q = np.zeros((m, n))\n",
    "    R = np.zeros((n, n))\n",
    "    \n",
    "    # Lặp qua từng cột của ma trận A\n",
    "    for i in range(n):\n",
    "        # Lấy vector cột thứ j của A\n",
    "        v = A[:, i]\n",
    "        \n",
    "        # Lặp qua các cột trước đó\n",
    "        for j in range(i):\n",
    "            R[j, i] = np.dot(Q[:, j], A[:, i])  # Tính R[j, i]\n",
    "            v = v - R[j, i] * Q[:, j] # Cập nhật lại vector cột\n",
    "        \n",
    "        # Tính chuẩn của vector hiện tại\n",
    "        R[i, i] = np.linalg.norm(v)\n",
    "        \n",
    "        # Trực chuẩn hóa vector và đưa vào ma trận Q\n",
    "        Q[:, i] = v / R[i, i]\n",
    "    \n",
    "    return Q, R\n",
    "\n",
    "# Test với ma trận A\n",
    "\n",
    "# A = np.array(\n",
    "#   [[1, 1, 1],\n",
    "#     [2,-2, 2],\n",
    "#     [1, 1, -1]]\n",
    "# )\n",
    "\n",
    "A = np.array(\n",
    "  [[1, 1, 2],\n",
    "    [2,-1, 1],\n",
    "    [-2, 4, 1]]\n",
    ")\n",
    "\n",
    "# A = np.array(\n",
    "#   [[1, 1, 1],\n",
    "#     [2,2, 0],\n",
    "#     [3, 0, 0],\n",
    "#     [0 ,0 , 1]]\n",
    "# )\n",
    "\n",
    "Q, R = QR_decomposition(A)\n",
    "print (\"Ma trận A:\")\n",
    "print(A)\n",
    "print(\"\\nMa trận Q:\")\n",
    "print(Q)\n",
    "print(\"\\nMa trận R:\")\n",
    "print(R)\n"
   ]
  },
  {
   "cell_type": "markdown",
   "id": "15b02ea2-5731-436d-add5-e5a39384c39c",
   "metadata": {},
   "source": [
    "## 2. Mở rộng"
   ]
  },
  {
   "cell_type": "markdown",
   "id": "84e54f4d-9912-4d95-a1bb-137f912aae8b",
   "metadata": {},
   "source": [
    "### 2.1 Đối chiếu với dùng thư viện"
   ]
  },
  {
   "cell_type": "code",
   "execution_count": 32,
   "id": "5a1e4e37-8e50-47a5-9212-2d9909ab975a",
   "metadata": {},
   "outputs": [
    {
     "name": "stdout",
     "output_type": "stream",
     "text": [
      "Ma trận A:\n",
      "[[ 1  1  2]\n",
      " [ 2 -1  1]\n",
      " [-2  4  1]]\n",
      "\n",
      "Ma trận Q:\n",
      "[[-0.33333333 -0.66666667  0.66666667]\n",
      " [-0.66666667 -0.33333333 -0.66666667]\n",
      " [ 0.66666667 -0.66666667 -0.33333333]]\n",
      "\n",
      "Ma trận R:\n",
      "[[-3.          3.         -0.66666667]\n",
      " [ 0.         -3.         -2.33333333]\n",
      " [ 0.          0.          0.33333333]]\n"
     ]
    }
   ],
   "source": [
    "Q, R = np.linalg.qr(A)\n",
    "\n",
    "# In ma trận A, Q và R ( chạy code phần 1 trước)\n",
    "print(\"Ma trận A:\")\n",
    "print(A)\n",
    "print(\"\\nMa trận Q:\")\n",
    "print(Q)\n",
    "print(\"\\nMa trận R:\")\n",
    "print(R)"
   ]
  },
  {
   "cell_type": "markdown",
   "id": "ccca53cc-c61d-48e2-a2b4-5616253b43d7",
   "metadata": {},
   "source": [
    "#### Từ việc thực hiện phân rã A = QR bằng thuật toán Gram-Schmidt không sử dụng thư viện và sử dụng thư viện numpy, ta thấy kết quả ma trận Q R ở 2 phần bị ngược dấu nhưng vẫn đúng với A = QR"
   ]
  },
  {
   "cell_type": "markdown",
   "id": "566b3a2c-b636-4eb3-8a03-6bbe782cb831",
   "metadata": {
    "jp-MarkdownHeadingCollapsed": true
   },
   "source": [
    "### 2.2. Tìm hiểu và trình bày ứng dụng QR decomposition"
   ]
  },
  {
   "cell_type": "markdown",
   "id": "1bb19733-14e2-4c9b-be3e-a87cac932094",
   "metadata": {},
   "source": [
    "- Hồi quy tuyến tính và các vấn đề bình phương tối thiểu: Phân rã QR thường được sử dụng trong các vấn đề hồi quy tuyến tính và xấp xỉ bình phương tối thiểu. Nó cho phép giải phương trình hệ tuyến tính một cách ổn định và hiệu quả, đặc biệt là khi xử lý các hệ quá xác định.\n",
    "- Phân tích và xử lý dữ liệu: Phân rã QR có thể được sử dụng để phân tích và xử lý dữ liệu, bao gồm cả việc giảm chiều dữ liệu, xấp xỉ dữ liệu, và loại bỏ độ lệch (bias) từ các biến.\n",
    "- Ứng dụng trong việc nén và xử lý hình ảnh: Phân rã QR có thể được sử dụng trong các thuật toán nén và xử lý hình ảnh, bao gồm việc giảm kích thước hình ảnh và loại bỏ nhiễu.\n",
    "- Xử lý tín hiệu: Phân rã QR có thể được sử dụng cho các nhiệm vụ như lọc và làm sạch tín hiệu trong xử lý tín hiệu.\n",
    "<p><strong>Kết luận: Theo những gì em tìm hiểu thì giảm chiều dữ liệu là ứng dụng quan trọng, phổ biến nhất của QR decomposition. \n",
    "    Việc giảm chiều dữ liệu này rất hữu ích trong nhiều ứng dụng như xử lý tín hiệu và hình ảnh, phân tích dữ liệu, nhận dạng mẫu, và máy học.\n",
    "     Bằng cách loại bỏ hoặc giảm thiểu các thành phần không cần thiết, ta có thể giảm kích thước của dữ liệu mà vẫn giữ được những thông tin quan trọng, giúp cho việc tính toán và xử lý dữ liệu trở nên hiệu quả hơn.</strong></p>"
   ]
  }
 ],
 "metadata": {
  "kernelspec": {
   "display_name": "Python 3 (ipykernel)",
   "language": "python",
   "name": "python3"
  },
  "language_info": {
   "codemirror_mode": {
    "name": "ipython",
    "version": 3
   },
   "file_extension": ".py",
   "mimetype": "text/x-python",
   "name": "python",
   "nbconvert_exporter": "python",
   "pygments_lexer": "ipython3",
   "version": "3.11.7"
  }
 },
 "nbformat": 4,
 "nbformat_minor": 5
}
