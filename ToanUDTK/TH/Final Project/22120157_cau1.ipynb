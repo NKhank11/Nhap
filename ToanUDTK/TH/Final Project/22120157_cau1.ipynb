{
 "cells": [
  {
   "cell_type": "markdown",
   "metadata": {},
   "source": [
    "# TOÁN ỨNG DỤNG THỐNG KÊ\n",
    "## Lớp: 22_2\n",
    "## MSSV: 22120157\n",
    "## Họ tên: Nguyễn Nam Khánh\n",
    "## Đồ án thực hành cuối kỳ HK2 2023-2024\n",
    "\n"
   ]
  },
  {
   "cell_type": "markdown",
   "metadata": {},
   "source": [
    "### Câu 1: Data Fitting"
   ]
  },
  {
   "cell_type": "markdown",
   "metadata": {},
   "source": [
    "#### Cài đặt các hàm phục vụ cho việc xây dựng mô hình"
   ]
  },
  {
   "cell_type": "code",
   "execution_count": 1,
   "metadata": {},
   "outputs": [
    {
     "name": "stdout",
     "output_type": "stream",
     "text": [
      "         SEQN age_group  RIDAGEYR  RIAGENDR  PAQ605  BMXBMI  LBXGLU  DIQ010  \\\n",
      "0     73564.0     Adult      61.0       2.0     2.0    35.7   110.0     2.0   \n",
      "1     73568.0     Adult      26.0       2.0     2.0    20.3    89.0     2.0   \n",
      "2     73576.0     Adult      16.0       1.0     2.0    23.2    89.0     2.0   \n",
      "3     73577.0     Adult      32.0       1.0     2.0    28.9   104.0     2.0   \n",
      "4     73580.0     Adult      38.0       2.0     1.0    35.9   103.0     2.0   \n",
      "...       ...       ...       ...       ...     ...     ...     ...     ...   \n",
      "2273  83711.0     Adult      38.0       2.0     2.0    33.5   100.0     2.0   \n",
      "2274  83712.0     Adult      61.0       1.0     2.0    30.0    93.0     2.0   \n",
      "2275  83713.0     Adult      34.0       1.0     2.0    23.7   103.0     2.0   \n",
      "2276  83718.0     Adult      60.0       2.0     2.0    27.4    90.0     2.0   \n",
      "2277  83727.0     Adult      26.0       1.0     2.0    24.5   108.0     2.0   \n",
      "\n",
      "      LBXGLT  LBXIN  \n",
      "0      150.0  14.91  \n",
      "1       80.0   3.85  \n",
      "2       68.0   6.14  \n",
      "3       84.0  16.15  \n",
      "4       81.0  10.92  \n",
      "...      ...    ...  \n",
      "2273    73.0   6.53  \n",
      "2274   208.0  13.02  \n",
      "2275   124.0  21.41  \n",
      "2276   108.0   4.99  \n",
      "2277   108.0   3.76  \n",
      "\n",
      "[2278 rows x 10 columns]\n"
     ]
    }
   ],
   "source": [
    "import pandas as pd\n",
    "import numpy as np\n",
    "import matplotlib.pyplot as plt\n",
    "np.set_printoptions(suppress=True)  # Không hiển thị số thực theo dạng 1e-xx\n",
    "\n",
    "df = pd.read_csv('./national+health+and+nutrition+health+survey+2013-2014+(nhanes)+age+prediction+subset/NHANES_age_prediction.csv')\n",
    "#Đây là đường dẫn sau khi đặt tất cả các file vào cùng 1 thư mục và giải nén file zip chứa dữ liệu\n",
    "print(df)\n",
    "\n",
    "# Hàm chuyển vị ma trận\n",
    "def transpose(A):\n",
    "    if len(A.shape) == 1:\n",
    "        A = A.reshape(-1, 1)\n",
    "    rows, cols = A.shape\n",
    "    AT = np.zeros((cols, rows))\n",
    "    for i in range(rows):\n",
    "        for j in range(cols):\n",
    "            AT[j][i] = A[i][j]\n",
    "    return AT\n",
    "\n",
    "# Hàm tìm ma trận nghịch đảo\n",
    "def inverse(A):\n",
    "    #Tạo ma trận đơn vị kích thước bằng ma trận vuông A\n",
    "    I = np.eye(A.shape[0])\n",
    "    #Tạo ma trận bổ sung B = (A|I)\n",
    "    B = np.hstack([A, I])\n",
    "    rows, cols =  B.shape\n",
    "    for c in range(cols):   # Duyệt qua từng cột\n",
    "        if np.all(B[:, c] == 0):    # Nếu tất cả các phần tử trong cột c đều bằng 0 thì kết thúc\n",
    "            return None\n",
    "\n",
    "        pivot = None\n",
    "        for r in range(c, rows):    # Tìm phần tử pivot khác 0 đầu tiên trong cột c\n",
    "            if B[r, c] != 0:\n",
    "                pivot = r\n",
    "                break\n",
    "\n",
    "        if pivot is None:  \n",
    "            continue\n",
    "\n",
    "        # Hoán vị dòng chứa pivot lên vị trí của dòng c\n",
    "        B[[c, pivot]] = B[[pivot, c]]\n",
    "        \n",
    "        # Nhân giá trị của dòng chứa pivot cho 1/pivot\n",
    "        B[c] = B[c] / B[c, c]\n",
    "\n",
    "        # Biến các phần tử trên dưới pivot về 0\n",
    "        for r in range(rows):   \n",
    "            if r == c:\n",
    "                continue\n",
    "            factor = B[r, c] / B[c, c]\n",
    "            B[r] = B[r] -  factor * B[c]\n",
    "\n",
    "    #Nếu ma trận B lúc này có dạng [I, A^-1] thì trả về ma trận nghịch đảo\n",
    "    if np.all(B[:, :cols//2] == I):\n",
    "        return B[:, cols//2:]\n",
    "    else:\n",
    "        return None\n",
    "\n",
    "# Hàm nhân 2 ma trận\n",
    "def matrix_multiply(A, B):\n",
    "    rows_A, cols_A = A.shape\n",
    "    rows_B, cols_B = B.shape\n",
    "    result = np.zeros((rows_A, cols_B))\n",
    "    for i in range(rows_A):\n",
    "        for j in range(cols_B):\n",
    "            for k in range(cols_A):\n",
    "                result[i, j] += A[i, k] * B[k, j]\n",
    "    return result\n",
    "\n",
    "# Hàm tính theta\n",
    "def theta(A, b):\n",
    "    A_transpose_A = matrix_multiply(A.T, A)\n",
    "    A_transpose_b = matrix_multiply(A.T, b)\n",
    "    A_transpose_A_inv = inverse(A_transpose_A)\n",
    "    return matrix_multiply(A_transpose_A_inv, A_transpose_b)\n",
    "\n",
    "# Hàm tính norm\n",
    "def norm(A, b, theta):\n",
    "    error_vector = matrix_multiply(A, theta)  # Tính A * theta\n",
    "    for i in range(len(error_vector)):\n",
    "        error_vector[i] -= b[i][0]            # Trừ đi b\n",
    "    sum_of_squares = 0\n",
    "    for x in error_vector:\n",
    "        sum_of_squares += x**2\n",
    "    return sum_of_squares ** 0.5\n",
    "\n",
    "# Hàm lấy ma trận A và vector b từ dữ liệu\n",
    "def getAb(x, y):\n",
    "    col1 = np.ones(len(x))  # Tạo mảng phần tử 1 với số phần tử bằng số phần tử của x\n",
    "    colx = transpose(np.array(x))  # Chuyển vị ma trận x\n",
    "    A = transpose(np.vstack((col1, colx)))   # Gộp cột 1 và cột x\n",
    "    b = np.array(y).reshape(len(y), 1)  # Chuyển y thành ma trận cột\n",
    "    return A, b"
   ]
  },
  {
   "cell_type": "markdown",
   "metadata": {},
   "source": [
    "#### Câu a: Sử dụng 7 biến đầu vào còn lại"
   ]
  },
  {
   "cell_type": "code",
   "execution_count": 2,
   "metadata": {},
   "outputs": [
    {
     "name": "stdout",
     "output_type": "stream",
     "text": [
      "Theta values:\n",
      "[[ 2.03166707]\n",
      " [ 0.0005828 ]\n",
      " [-0.01435197]\n",
      " [ 0.00045274]\n",
      " [ 0.00031492]\n",
      " [-0.00043993]\n",
      " [ 0.0000106 ]\n",
      " [ 0.00125537]]\n",
      "Norm values:\n",
      "[8.81394106]\n"
     ]
    }
   ],
   "source": [
    "# Hàm xây dựng mô hình tuyến tính\n",
    "def linear_model():\n",
    "  x = (df.iloc[:, [2, 3, 4, 5, 6, 8, 9]]).to_numpy()    # Lấy từ cột 2 đến cột 9 bỏ cột 7\n",
    "  y = (df.iloc[:, 7]).to_numpy()    # Lấy cột 7\n",
    "  A, b = getAb(x, y)   \n",
    "  print(\"Theta values:\")\n",
    "  print(theta(A, b)) \n",
    "  print(\"Norm values:\")\n",
    "  print(norm(A, b, theta(A, b)))\n",
    "\n",
    "linear_model()"
   ]
  },
  {
   "cell_type": "markdown",
   "metadata": {},
   "source": [
    "#### Câu b: Sử dụng duy nhất 1 biến cho kết quả tốt nhất"
   ]
  },
  {
   "cell_type": "code",
   "execution_count": 3,
   "metadata": {},
   "outputs": [
    {
     "name": "stdout",
     "output_type": "stream",
     "text": [
      "Norm cho đặc trưng RIDAGEYR: [8.84326136]\n",
      "\n",
      "Norm cho đặc trưng RIAGENDR: [8.84956776]\n",
      "\n",
      "Norm cho đặc trưng PAQ605: [8.854293]\n",
      "\n",
      "Norm cho đặc trưng BMXBMI: [8.84448223]\n",
      "\n",
      "Norm cho đặc trưng LBXGLU: [8.85423613]\n",
      "\n",
      "Norm cho đặc trưng LBXGLT: [8.85389808]\n",
      "\n",
      "Norm cho đặc trưng LBXIN: [8.83890601]\n",
      "\n",
      "Đặc trưng được chọn có loss value nhỏ nhất là: LBXIN\n",
      "x: [14.91  3.85  6.14 ... 21.41  4.99  3.76]\n",
      "Giá trị norm nhỏ nhất: [8.83890601]\n"
     ]
    },
    {
     "data": {
      "image/png": "[encoded data removed]",
      "text/plain": [
       "<Figure size 640x480 with 1 Axes>"
      ]
     },
     "metadata": {},
     "output_type": "display_data"
    }
   ],
   "source": [
    "# Hàm hiển thị biểu đồ\n",
    "def show(xs, ys, theta):\n",
    "    plt.plot(xs, ys, \"o\", color=\"blue\") # Vẽ các điểm dữ liệu\n",
    "    ts = np.linspace(np.min(xs), np.max(xs), 50) # Tạo 50 điểm trong khoảng từ min(xs) đến max(xs)\n",
    "    yts = theta[0] + theta[1] * ts  # Tính giá trị y tương ứng với các điểm ts\n",
    "    plt.plot(ts, yts, color=\"red\")\n",
    "    plt.xlabel(\"X\")\n",
    "    plt.ylabel(\"Y\")\n",
    "    plt.title(\"Linear Model\")\n",
    "    plt.legend([\"Data points\", \"Line of regression\"])\n",
    "    plt.grid(True)\n",
    "    plt.show()\n",
    "\n",
    "def best_model():\n",
    "    y = df.iloc[:, 7].to_numpy()\n",
    "    temp = float('inf') # Khởi tạo giá trị vô cùng lớn\n",
    "\n",
    "    for i in range(2, 10): ## Chạy từ cột 2 đến 9\n",
    "        # Bỏ qua cột 7\n",
    "        if i == 7:\n",
    "            continue\n",
    "\n",
    "        x = df.iloc[:, i].to_numpy()\n",
    "        A, b = getAb(x, y)\n",
    "        current_norm = norm(A, b, theta(A, b))\n",
    "        print(f\"Norm cho đặc trưng {df.columns[i]}: {current_norm}\\n\")\n",
    "\n",
    "        if i == 1 or current_norm < temp:\n",
    "            temp = current_norm\n",
    "            col = x\n",
    "            index = i\n",
    "    print(f\"Đặc trưng được chọn có loss value nhỏ nhất là: {df.columns[index]}\")\n",
    "    print(\"x:\", col)\n",
    "    print(f\"Giá trị norm nhỏ nhất: {temp}\")\n",
    "\n",
    "    show(col, y, theta(A, b))\n",
    "\n",
    "best_model()"
   ]
  },
  {
   "cell_type": "markdown",
   "metadata": {},
   "source": [
    "#### Câu c: Xây dựng mô hình của riêng bạn cho kết quả tốt nhất\n"
   ]
  },
  {
   "cell_type": "code",
   "execution_count": 4,
   "metadata": {},
   "outputs": [
    {
     "name": "stdout",
     "output_type": "stream",
     "text": [
      "Theta values:\n",
      " [[ 2.0212366 ]\n",
      " [ 0.        ]\n",
      " [-0.00001211]\n",
      " [-0.        ]\n",
      " [ 0.        ]\n",
      " [ 0.        ]\n",
      " [-0.        ]\n",
      " [-0.        ]]\n",
      "Norm value: [8.71343214]\n"
     ]
    }
   ],
   "source": [
    "#Câu c. Xây dựng mô hình của riêng bạn cho kết quả tốt nhất. Chọn mô hình Y = theta1 + theta2 * X^10. Mô hình này cho norm_values nhỏ hơn\n",
    "#norm_value ở câu a\n",
    "def getAb_my_model(x, y):\n",
    "    col1 = np.ones(len(x))\n",
    "    colx = transpose(np.array(x))\n",
    "    A = transpose(np.vstack((col1, colx**10)))\n",
    "    b = np.array(y).reshape(len(y), 1)\n",
    "    return A, b\n",
    "\n",
    "\n",
    "def my_model():\n",
    "    x = df.iloc[:, [2, 3, 4, 5, 6, 8, 9]].to_numpy()\n",
    "\n",
    "    y = df.iloc[:, 7].to_numpy()\n",
    "\n",
    "    A, b = getAb_my_model(x, y)\n",
    "    model_theta = theta(A, b)\n",
    "    model_norm = norm(A, b, model_theta)\n",
    "    print(\"Theta values:\\n\", model_theta)\n",
    "    print(\"Norm value:\", model_norm)\n",
    "\n",
    "my_model()"
   ]
  },
  {
   "cell_type": "markdown",
   "metadata": {},
   "source": [
    "#### Mô tả các hàm\n",
    "- Hàm theta: dùng để tìm nghiệm của phương trình hồi quy\n",
    "- Hàm norm: tính chuẩn vector phần dư\n",
    "- Hàm show(xs, ys, theta): vẽ biểu đồ \n",
    "- Hàm linear_model(): xây dựng mô hình hồi quy tuyến tính cho 7 biến\n",
    "- Hàm best_model(): tìm đặc trưng tốt nhất(có norm bé nhất) dựa trên dữ liệu của từng cột với cột DIQ010\n",
    "- Hàm my_model(): xây dựng mô hình hồi quy tuyến tính tốt cho 7 cột dữ liệu, tốt hơn mô hình ban đầu"
   ]
  }
 ],
 "metadata": {
  "kernelspec": {
   "display_name": "Python 3",
   "language": "python",
   "name": "python3"
  },
  "language_info": {
   "codemirror_mode": {
    "name": "ipython",
    "version": 3
   },
   "file_extension": ".py",
   "mimetype": "text/x-python",
   "name": "python",
   "nbconvert_exporter": "python",
   "pygments_lexer": "ipython3",
   "version": "3.12.0"
  }
 },
 "nbformat": 4,
 "nbformat_minor": 2
}
