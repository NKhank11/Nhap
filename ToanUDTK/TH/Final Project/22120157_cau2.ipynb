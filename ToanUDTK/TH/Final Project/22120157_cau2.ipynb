{
 "cells": [
  {
   "cell_type": "markdown",
   "metadata": {},
   "source": [
    "# TOÁN ỨNG DỤNG THỐNG KÊ\n",
    "## Lớp: 22_2\n",
    "## MSSV: 22120157\n",
    "## Họ tên: Nguyễn Nam Khánh\n",
    "## Đồ án thực hành cuối kỳ HK2 2023-2024\n",
    "\n"
   ]
  },
  {
   "cell_type": "markdown",
   "metadata": {},
   "source": [
    "### Câu 2: Markov Chain"
   ]
  },
  {
   "cell_type": "markdown",
   "metadata": {},
   "source": [
    "#### Xử lý dữ liệu đề bài"
   ]
  },
  {
   "cell_type": "markdown",
   "metadata": {},
   "source": [
    "![markov](https://i.imgur.com/CK4gM7o.png)"
   ]
  },
  {
   "cell_type": "markdown",
   "metadata": {},
   "source": [
    "##### Dựa vào đề bài, do không thực hiện bất kỳ công tác bảo trì, sửa chữa nào trong 1 năm nên CSVC của các phòng học chỉ có thể xuống cấp thấp hơn (tối đa 1 cấp).  Số phòng ở trạng thái 4 sẽ không xuống cấp nữa vì đã ở tình trạng tệ nhất. Vì có 2 phòng trạng thái 4 nên suy ra có 2 – 1 = 1 phòng chuyển từ trạng thái 3 sang 4. Lúc này chỉ còn 3 – 1 = 2 phòng ở trạng thái 3, mà năm 2021 có 5 phòng trạng thái 3 suy ra có 5 – 2 = 3 phòng chuyển từ trạng thái 2 sang 3. Lúc này chỉ còn 12 – 3 = 9 phòng ở trạng thái 2, mà năm 2021 có 17 phòng trạng thái 2, suy ra có 17 – 9 = 8 phòng chuyển từ trạng thái 1 sang 2. Từ đó ta được bảng mô tả sự dịch chuyển trạng thái của phòng giữa năm 2020 và 2021 như trên"
   ]
  },
  {
   "cell_type": "markdown",
   "metadata": {},
   "source": [
    "#### Câu a. Từ bảng trên, ta suy ra được ma trận chuyển trạng thái P của xích Markov"
   ]
  },
  {
   "cell_type": "code",
   "execution_count": 1,
   "metadata": {},
   "outputs": [
    {
     "name": "stdout",
     "output_type": "stream",
     "text": [
      "[[0.76470588 0.         0.         0.        ]\n",
      " [0.23529412 0.75       0.         0.        ]\n",
      " [0.         0.25       0.66666667 0.        ]\n",
      " [0.         0.         0.33333333 1.        ]]\n"
     ]
    }
   ],
   "source": [
    "import numpy as np\n",
    "\n",
    "P = np.array([\n",
    "  [26/34, 0, 0, 0],\n",
    "  [8/34, 9/12, 0, 0],\n",
    "  [0, 3/12, 2/3, 0],\n",
    "  [0, 0, 1/3, 1]\n",
    "])\n",
    "print(P)"
   ]
  },
  {
   "cell_type": "markdown",
   "metadata": {},
   "source": [
    "#### Câu b. Xác định vector phân phối xác suất ban đầu $\\pi_0$"
   ]
  },
  {
   "cell_type": "code",
   "execution_count": 2,
   "metadata": {},
   "outputs": [
    {
     "name": "stdout",
     "output_type": "stream",
     "text": [
      "[0.52 0.34 0.1  0.04]\n"
     ]
    }
   ],
   "source": [
    "pi_0 = np.array([26/50, 17/50, 5/50, 2/50])\n",
    "print(pi_0)"
   ]
  },
  {
   "cell_type": "markdown",
   "metadata": {},
   "source": [
    "#### Câu c. Dự báo sự xuống cấp về CSVC của các phòng học tòa I trong vòng 15 năm tới, kể từ 2021"
   ]
  },
  {
   "cell_type": "markdown",
   "metadata": {},
   "source": [
    "- Để tìm trạng thái của 50 phòng học trong 15 năm, ta sẽ đi tìm $\\pi_{i}$ = $\\pi_0$ * $P^{i}$ với i = 1, 2, ... 15"
   ]
  },
  {
   "cell_type": "code",
   "execution_count": 3,
   "metadata": {},
   "outputs": [
    {
     "name": "stdout",
     "output_type": "stream",
     "text": [
      "[20. 19.  7.  4.]\n",
      "[15. 19. 10.  6.]\n",
      "[12. 17. 12.  9.]\n",
      "[ 9. 16. 12. 13.]\n",
      "[ 7. 14. 12. 17.]\n",
      "[ 5. 12. 12. 21.]\n",
      "[ 4. 10. 11. 25.]\n",
      "[ 3.  9.  9. 29.]\n",
      "[ 2.  8.  8. 32.]\n",
      "[ 2.  6.  7. 35.]\n",
      "[ 1.  5.  7. 37.]\n",
      "[ 1.  4.  6. 39.]\n",
      "[ 1.  3.  5. 41.]\n",
      "[ 1.  2.  4. 43.]\n",
      "[ 0.  3.  3. 44.]\n"
     ]
    }
   ],
   "source": [
    "def round(x):\n",
    "  return int(x + 0.5) if x > 0 else int(x - 0.5)\n",
    "\n",
    "# Hàm nhân 2 ma trận\n",
    "def matrix_multiply(A, B):\n",
    "  rows_A, cols_A = A.shape\n",
    "  rows_B, cols_B = B.shape\n",
    "  result = np.zeros((rows_A, cols_B))\n",
    "  for i in range(rows_A):\n",
    "      for j in range(cols_B):\n",
    "          for k in range(cols_A):\n",
    "              result[i, j] += A[i, k] * B[k, j]\n",
    "  return result\n",
    "\n",
    "# Hàm nhân ma trận với vector\n",
    "def matrix_multiply_vector(matrix, vector):\n",
    "    result = np.zeros(matrix.shape[0])\n",
    "    for i in range(matrix.shape[0]):\n",
    "        for j in range(matrix.shape[1]):\n",
    "            result[i] += matrix[i, j] * vector[j]\n",
    "    return result\n",
    "\n",
    "# Hàm tính lũy thừa ma trận\n",
    "def matrix_power(matrix, power):\n",
    "  result = matrix\n",
    "  for _ in range(1, power):\n",
    "      result = matrix_multiply(result, matrix)\n",
    "  return result\n",
    "\n",
    "# Hàm làm tròn mỗi phần tử của mảng sao cho tổng bằng target\n",
    "# Ý tưởng của hàm này là ở mỗi bước, ta làm tròn 1 phần tử và lưu phần dư/thiếu (để đạt trạng thái số nguyên) vào biến temp\n",
    "# Sau đó, ta cộng phần dư/thiếu này vào phần tử tiếp theo\n",
    "# Khi đã làm tròn hết 4 phần tử, ta kiểm tra tổng của chúng có bằng target không, nếu có thì trả về mảng đã làm tròn\n",
    "def round_to_target(array, target):\n",
    "  temp = 0\n",
    "  for i in range (0, 4):\n",
    "    temp2 = array[i]\n",
    "    array[i] = round(array[i] + temp)\n",
    "    temp = temp + temp2 - array[i]\n",
    "\n",
    "  sum = 0\n",
    "  for i in range (0, 4):\n",
    "    sum = sum + array[i]\n",
    "  if sum == target:\n",
    "    return array\n",
    "       \n",
    "# Hàm dự đoán phân phối của trạng thái sau 15 năm\n",
    "# Ý tưởng của hàm này là nhân ma trận P mũ i với pi_0, i = 1, 2...15, sau đó làm tròn kết quả và in ra trạng thái dự đoán ở mỗi bước\n",
    "def prediction():\n",
    "  for i in range (1, 16):\n",
    "    pi_i = 50 * matrix_multiply_vector(matrix_power(P, i), pi_0)\n",
    "    pi_i_rounded = round_to_target(pi_i, 50)\n",
    "    print(pi_i_rounded)\n",
    "\n",
    "prediction()\n"
   ]
  },
  {
   "cell_type": "markdown",
   "metadata": {},
   "source": [
    "![cau2](https://i.imgur.com/c6Mom5W.png)"
   ]
  },
  {
   "cell_type": "markdown",
   "metadata": {},
   "source": [
    "#### Câu d. Xác định thời điểm phải phá hủy để xây lại/trùng tu tòa nhà (khi tất cả phòng học đều có CSVC xấu)"
   ]
  },
  {
   "cell_type": "markdown",
   "metadata": {},
   "source": [
    "- Để tìm được thời điểm tất cả phòng học có CSVC xấu (trạng thái 4), tức là số phòng học ở 4 trạng thái phải lần lượt là: [0 0 0 50]. Ta\n",
    "sẽ đi tìm cho tới khi đạt trạng thái đó và trả về i (là số năm kể từ năm 2021 để đạt được trạng thái [0 0 0 50]). Sau đó lấy năm bắt đầu là năm 2021 cộng với i sẽ thu được thời điểm để xây lại tòa nhà "
   ]
  },
  {
   "cell_type": "code",
   "execution_count": 4,
   "metadata": {},
   "outputs": [
    {
     "name": "stdout",
     "output_type": "stream",
     "text": [
      "Thời điểm để xây lại tòa nhà là năm 2048\n"
     ]
    }
   ],
   "source": [
    "maxYearFrom2021 = 70\n",
    "\n",
    "# Hàm tính khoảng thời gian cần để xây lại tòa nhà\n",
    "def periodUntilRestore():\n",
    "  for i in range (1, maxYearFrom2021):\n",
    "    pi_i = 50 * matrix_multiply_vector(matrix_power(P, i), pi_0)\n",
    "    pi_i_rounded = round_to_target(pi_i, 50)\n",
    "    if(pi_i_rounded[3] == 50):\n",
    "      return i\n",
    "  return -1\n",
    "\n",
    "period = periodUntilRestore()\n",
    "\n",
    "yearStart = 2021\n",
    "if period != -1:\n",
    "    yearOfRestore = yearStart + period\n",
    "    print(\"Thời điểm để xây lại tòa nhà là năm\", yearOfRestore)\n",
    "else:\n",
    "    print(\"Lỗi\")"
   ]
  },
  {
   "cell_type": "markdown",
   "metadata": {},
   "source": [
    "#### Câu e. Xác định tuổi thọ của tòa nhà I"
   ]
  },
  {
   "cell_type": "markdown",
   "metadata": {},
   "source": [
    "- Vì tòa nhà I được xây dựng và đưa vào sử dụng năm 2000 nên tuổi thọ của tòa nhà là thời điểm từ năm 2000 cho đến khi tất cả cơ sở vật chất của tòa nhà đều xuống cấp, tức là 50 phòng học đều ở trạng thái 4 (CSVC xấu). Ta đã tính được năm 2048 (yearOfStore) là năm cần xây lại tòa nhà. Vậy tuổi thọ của tòa nhà I sẽ là 2048 - 2000 = 48 (năm)"
   ]
  },
  {
   "cell_type": "code",
   "execution_count": 5,
   "metadata": {},
   "outputs": [
    {
     "name": "stdout",
     "output_type": "stream",
     "text": [
      "Tuổi thọ của tòa nhà I là:  48 năm\n"
     ]
    }
   ],
   "source": [
    "##Chạy câu d trước\n",
    "yearOfConstruct = 2000\n",
    "print(\"Tuổi thọ của tòa nhà I là: \", yearOfRestore - yearOfConstruct, \"năm\")"
   ]
  },
  {
   "cell_type": "markdown",
   "metadata": {},
   "source": [
    "#### Mô tả các hàm\n",
    "- Hàm round: dùng để làm tròn đến phần nguyên\n",
    "- Hàm matrix_multiply(A, B): dùng để nhân 2 ma trận A, B\n",
    "- Hàm matrix_power(P, i): dùng để tính ma trân $P^{i}$\n",
    "- Hàm round_to_target(array, target): dùng để làm tròn các phần tử trong array đến phần nguyên sao cho tổng của chúng bằng target\n",
    "- Hàm prediction(): dùng để in ra số lượng phòng học ở mỗi trạng thái trong 15 năm, từ năm 2021 đến 2035 \n",
    "- Hàm periodUntilRestore(): dùng để tìm số năm kể từ năm 2021 để tòa nhà I được xây lại"
   ]
  }
 ],
 "metadata": {
  "kernelspec": {
   "display_name": "Python 3",
   "language": "python",
   "name": "python3"
  },
  "language_info": {
   "codemirror_mode": {
    "name": "ipython",
    "version": 3
   },
   "file_extension": ".py",
   "mimetype": "text/x-python",
   "name": "python",
   "nbconvert_exporter": "python",
   "pygments_lexer": "ipython3",
   "version": "3.12.0"
  }
 },
 "nbformat": 4,
 "nbformat_minor": 2
}
