{
 "cells": [
  {
   "cell_type": "markdown",
   "metadata": {},
   "source": [
    "# TOÁN ỨNG DỤNG THỐNG KÊ\n",
    "### Lớp: 22_2\n",
    "### MSSV: 22120157\n",
    "### Họ tên: Nguyễn Nam Khánh\n",
    "### Project 5: Linear Regression\n"
   ]
  },
  {
   "cell_type": "markdown",
   "metadata": {},
   "source": [
    "### Nội dung\n",
    "<p>Từ file \"wine.csv\" là cơ sở đánh giá chất lượng 1200 chai rượu vang theo thang điểm 1-10 dựa trên 11 tinh chất khác nhau. Hãy xây dựng mô hình đánh giá chất lượng rượu sử dụng phương pháp hồi quy tuyến tính</p>"
   ]
  },
  {
   "cell_type": "markdown",
   "metadata": {},
   "source": [
    "Nghiệm của phương trình hồi quy tuyến tính **Ax = b**\n",
    "được tính như sau: x = $(A^{T}A)^{-1}A^{T}b$\n"
   ]
  },
  {
   "cell_type": "markdown",
   "metadata": {},
   "source": [
    "### Cài đặt các hàm phục vụ cho việc xây dựng mô hình"
   ]
  },
  {
   "cell_type": "code",
   "execution_count": 13,
   "metadata": {},
   "outputs": [],
   "source": [
    "import pandas as pd\n",
    "import numpy as np\n",
    "import matplotlib.pyplot as plt\n",
    "np.set_printoptions(suppress=True)  # Không hiển thị số thực theo dạng 1e-xx\n",
    "\n",
    "df = pd.read_csv('wine.csv')\n",
    "# print(df)\n",
    "\n",
    "# Hàm chuyển vị ma trận\n",
    "def transpose(A):\n",
    "    if len(A.shape) == 1:\n",
    "        A = A.reshape(-1, 1)\n",
    "    rows, cols = A.shape\n",
    "    AT = np.zeros((cols, rows))\n",
    "    for i in range(rows):\n",
    "        for j in range(cols):\n",
    "            AT[j][i] = A[i][j]\n",
    "    return AT\n",
    "\n",
    "# Hàm tìm ma trận nghịch đảo\n",
    "def inverse(A):\n",
    "    #Tạo ma trận đơn vị kích thước bằng ma trận vuông A\n",
    "    I = np.eye(A.shape[0])\n",
    "    #Tạo ma trận bổ sung B = (A|I)\n",
    "    B = np.hstack([A, I])\n",
    "    rows, cols =  B.shape\n",
    "    for c in range(cols):   # Duyệt qua từng cột\n",
    "        if np.all(B[:, c] == 0):    # Nếu tất cả các phần tử trong cột c đều bằng 0 thì kết thúc\n",
    "            return None\n",
    "\n",
    "        pivot = None\n",
    "        for r in range(c, rows):    # Tìm phần tử pivot khác 0 đầu tiên trong cột c\n",
    "            if B[r, c] != 0:\n",
    "                pivot = r\n",
    "                break\n",
    "\n",
    "        if pivot is None:  \n",
    "            continue\n",
    "\n",
    "        # Hoán vị dòng chứa pivot lên vị trí của dòng c\n",
    "        B[[c, pivot]] = B[[pivot, c]]\n",
    "        \n",
    "        # Nhân giá trị của dòng chứa pivot cho 1/pivot\n",
    "        B[c] = B[c] / B[c, c]\n",
    "\n",
    "        # Biến các phần tử trên dưới pivot về 0\n",
    "        for r in range(rows):   \n",
    "            if r == c:\n",
    "                continue\n",
    "            factor = B[r, c] / B[c, c]\n",
    "            B[r] = B[r] -  factor * B[c]\n",
    "\n",
    "    #Nếu ma trận B lúc này có dạng [I, A^-1] thì trả về ma trận nghịch đảo\n",
    "    if np.all(B[:, :cols//2] == I):\n",
    "        return B[:, cols//2:]\n",
    "    else:\n",
    "        return None\n",
    "\n",
    "# Hàm nhân 2 ma trận\n",
    "def matrix_multiply(A, B):\n",
    "    rows_A, cols_A = A.shape\n",
    "    rows_B, cols_B = B.shape\n",
    "    result = np.zeros((rows_A, cols_B))\n",
    "    for i in range(rows_A):\n",
    "        for j in range(cols_B):\n",
    "            for k in range(cols_A):\n",
    "                result[i, j] += A[i, k] * B[k, j]\n",
    "    return result\n",
    "\n",
    "# Hàm tính theta\n",
    "def theta(A, b):\n",
    "    A_transpose_A = matrix_multiply(A.T, A)\n",
    "    A_transpose_b = matrix_multiply(A.T, b)\n",
    "    A_transpose_A_inv = inverse(A_transpose_A)\n",
    "    return matrix_multiply(A_transpose_A_inv, A_transpose_b)\n",
    "\n",
    "# Hàm tính norm\n",
    "def norm(A, b, theta):\n",
    "    error_vector = matrix_multiply(A, theta)  # Tính A * theta\n",
    "    for i in range(len(error_vector)):\n",
    "        error_vector[i] -= b[i][0]            # Trừ đi b\n",
    "    sum_of_squares = 0\n",
    "    for x in error_vector:\n",
    "        sum_of_squares += x**2\n",
    "    return sum_of_squares ** 0.5\n",
    "\n",
    "# Hàm lấy ma trận A và vector b từ dữ liệu\n",
    "def getAb(x, y):\n",
    "    col1 = np.ones(len(x))  # Tạo mảng phần tử 1 với số phần tử bằng số phần tử của x\n",
    "    colx = transpose(np.array(x))  # Chuyển vị ma trận x\n",
    "    A = transpose(np.vstack((col1, colx)))   # Gộp cột 1 và cột x\n",
    "    b = np.array(y).reshape(len(y), 1)  # Chuyển y thành ma trận cột\n",
    "    return A, b"
   ]
  },
  {
   "cell_type": "markdown",
   "metadata": {},
   "source": [
    "### Câu a: Sử dụng 11 đặc trưng đề bài cung cấp để xây dựng mô hình"
   ]
  },
  {
   "cell_type": "code",
   "execution_count": 18,
   "metadata": {},
   "outputs": [
    {
     "name": "stdout",
     "output_type": "stream",
     "text": [
      "[[ 209.67651937]\n",
      " [   0.19383951]\n",
      " [  -0.92683787]\n",
      " [  -0.03170354]\n",
      " [   0.12551858]\n",
      " [  -1.76031674]\n",
      " [   0.00382846]\n",
      " [  -0.00464975]\n",
      " [-208.97867923]\n",
      " [   0.74622261]\n",
      " [   1.057678  ]]\n",
      "[22.86724491]\n"
     ]
    }
   ],
   "source": [
    "# Hàm xây dựng mô hình tuyến tính\n",
    "def linear_model():\n",
    "  x = (df.iloc[:, 1:11]).to_numpy() # Lấy các cột từ 1 đến 11\n",
    "  y = (df.iloc[:, 0]).to_numpy()    # Lấy cột 0\n",
    "  A, b = getAb(x, y)   \n",
    "  print(theta(A, b)) \n",
    "  print(norm(A, b, theta(A, b)))\n",
    "\n",
    "linear_model()"
   ]
  },
  {
   "cell_type": "markdown",
   "metadata": {},
   "source": [
    "### Câu b: Sử dụng duy nhất 1 đặc trưng cho kết quả tốt nhất"
   ]
  },
  {
   "cell_type": "code",
   "execution_count": 15,
   "metadata": {},
   "outputs": [
    {
     "name": "stdout",
     "output_type": "stream",
     "text": [
      "Norm cho đặc trưng \"fixed acidity\": [27.70877661]\n",
      "\n",
      "Norm cho đặc trưng \"volatile acidity\": [25.92104626]\n",
      "\n",
      "Norm cho đặc trưng \"citric acid\": [27.2823261]\n",
      "\n",
      "Norm cho đặc trưng \"residual sugar\": [27.98804766]\n",
      "\n",
      "Norm cho đặc trưng \"chlorides\": [27.80382916]\n",
      "\n",
      "Norm cho đặc trưng \"free sulfur dioxide\": [27.94287547]\n",
      "\n",
      "Norm cho đặc trưng \"total sulfur dioxide\": [27.29098207]\n",
      "\n",
      "Norm cho đặc trưng \"density\": [27.49784058]\n",
      "\n",
      "Norm cho đặc trưng \"pH\": [27.94140815]\n",
      "\n",
      "Norm cho đặc trưng \"sulphates\": [27.38855032]\n",
      "\n",
      "Norm cho đặc trưng \"alcohol\": [24.18005278]\n",
      "\n",
      "Đặc trưng được chọn có loss value nhỏ nhất là: \"alcohol\"\n",
      "x: [ 9.4  9.8  9.8 ...  9.5  9.8 10.9]\n",
      "Giá trị norm nhỏ nhất: [24.18005278]\n"
     ]
    },
    {
     "data": {
      "image/png": "[encoded data removed]",
      "text/plain": [
       "<Figure size 640x480 with 1 Axes>"
      ]
     },
     "metadata": {},
     "output_type": "display_data"
    }
   ],
   "source": [
    "# Hàm hiển thị biểu đồ\n",
    "def show(xs, ys, theta):\n",
    "    plt.plot(xs, ys, \"o\", color=\"blue\") # Vẽ các điểm dữ liệu\n",
    "    ts = np.linspace(np.min(xs), np.max(xs), 50) # Tạo 50 điểm trong khoảng từ min(xs) đến max(xs)\n",
    "    yts = theta[0] + theta[1] * ts  # Tính giá trị y tương ứng với các điểm ts\n",
    "    plt.plot(ts, yts, color=\"red\")\n",
    "    plt.xlabel(\"X\")\n",
    "    plt.ylabel(\"Y\")\n",
    "    plt.title(\"Linear Model\")\n",
    "    plt.legend([\"Data points\", \"Line of regression\"])\n",
    "    plt.grid(True)\n",
    "    plt.show()\n",
    "\n",
    "def best_model():\n",
    "    y = df.iloc[:, 0].to_numpy()\n",
    "\n",
    "    for i in range(1, 12):\n",
    "        x = df.iloc[:, i].to_numpy()\n",
    "        A, b = getAb(x, y)\n",
    "        current_norm = norm(A, b, theta(A, b))\n",
    "        print(f\"Norm cho đặc trưng {df.columns[i]}: {current_norm}\\n\")\n",
    "\n",
    "        if i == 1 or current_norm < temp:\n",
    "            temp = current_norm\n",
    "            col = x\n",
    "            index = i\n",
    "    print(f\"Đặc trưng được chọn có loss value nhỏ nhất là: {df.columns[index]}\")\n",
    "    print(\"x:\", col)\n",
    "    print(f\"Giá trị norm nhỏ nhất: {temp}\")\n",
    "\n",
    "    show(col, y, theta(A, b))\n",
    "\n",
    "best_model()"
   ]
  },
  {
   "cell_type": "markdown",
   "metadata": {},
   "source": [
    "### Câu c: Xây dựng mô hình của riêng bạn cho kết quả tốt nhất"
   ]
  },
  {
   "cell_type": "code",
   "execution_count": 10,
   "metadata": {},
   "outputs": [
    {
     "name": "stdout",
     "output_type": "stream",
     "text": [
      "Theta values: [[  6179.74360097]\n",
      " [     0.29287636]\n",
      " [    -1.01527478]\n",
      " [    -1.15962306]\n",
      " [     0.05682026]\n",
      " [    -1.03629623]\n",
      " [     0.01268377]\n",
      " [    -0.00606567]\n",
      " [-12354.49167427]\n",
      " [     3.30417055]\n",
      " [     3.23884829]\n",
      " [     0.53317994]\n",
      " [    -0.01375975]\n",
      " [    -0.00134724]\n",
      " [     1.3922467 ]\n",
      " [    -0.00262055]\n",
      " [    -1.20834494]\n",
      " [    -0.00020313]\n",
      " [     0.00001642]\n",
      " [  6169.17202516]\n",
      " [    -0.55323669]\n",
      " [    -1.34248128]\n",
      " [    -0.01360817]]\n",
      "Norm value: [21.59595188]\n"
     ]
    }
   ],
   "source": [
    "#Cau c: Xay dung mo hinh cho ket qua tot nhat. Chon mo hinh Y = theta1 + theta2 * X + theta3 * X^2\n",
    "def getAb_my_model(x, y):\n",
    "    col1 = np.ones(len(x))\n",
    "    colx = transpose(np.array(x))\n",
    "    A = transpose(np.vstack((col1, colx, colx**2)))\n",
    "    b = np.array(y).reshape(len(y), 1)\n",
    "    return A, b\n",
    "\n",
    "\n",
    "def my_model():\n",
    "    x = df.iloc[:, 1:12].to_numpy()\n",
    "    y = df.iloc[:, 0].to_numpy()\n",
    "    A, b = getAb_my_model(x, y)\n",
    "    model_theta = theta(A, b)\n",
    "    model_norm = norm(A, b, model_theta)\n",
    "    print(\"Theta values:\\n\", model_theta)\n",
    "    print(\"Norm value:\", model_norm)\n",
    "\n",
    "my_model()"
   ]
  },
  {
   "cell_type": "markdown",
   "metadata": {},
   "source": [
    "### Mô tả các hàm\n",
    "- Hàm theta: dùng để tìm nghiệm của phương trình hồi quy\n",
    "- Hàm norm: tính chuẩn vector phần dư\n",
    "- Hàm show(xs, ys, theta): vẽ biểu đồ \n",
    "- Hàm linear_model(): xây dựng mô hình hồi quy tuyến tính cho 11 cột\n",
    "- Hàm best_model(): tìm đặc trưng tốt nhất(có norm bé nhất) dựa trên dữ liệu của từng cột với cột quality\n",
    "- Hàm my_model(): xây dựng mô hình hồi quy tuyến tính tốt cho 11 cột dữ liệu, tốt hơn mô hình ban đầu"
   ]
  }
 ],
 "metadata": {
  "kernelspec": {
   "display_name": "Python 3",
   "language": "python",
   "name": "python3"
  },
  "language_info": {
   "codemirror_mode": {
    "name": "ipython",
    "version": 3
   },
   "file_extension": ".py",
   "mimetype": "text/x-python",
   "name": "python",
   "nbconvert_exporter": "python",
   "pygments_lexer": "ipython3",
   "version": "3.12.0"
  }
 },
 "nbformat": 4,
 "nbformat_minor": 2
}
