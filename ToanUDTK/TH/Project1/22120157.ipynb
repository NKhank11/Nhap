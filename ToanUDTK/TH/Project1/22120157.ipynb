{
 "cells": [
  {
   "cell_type": "markdown",
   "id": "f332367d-4af1-4db6-b2e6-93e9c16e2de5",
   "metadata": {},
   "source": [
    "# TOÁN ỨNG DỤNG VÀ THỐNG KÊ\n",
    "## Project 1: Gauss\n",
    "### Họ và tên: Nguyễn Nam Khánh\n",
    "### Lớp: 22_2\n",
    "### MSSV: 22120157"
   ]
  },
  {
   "cell_type": "markdown",
   "id": "0719cfea-db24-4dab-9449-6e7e33b917c3",
   "metadata": {},
   "source": [
    "### 1> Phép khử Gauss (Gauss Elimination)\n",
    "<p>Viết hàm Gauss_elimination(A) trong đó</p>\n",
    "<li>Input: A, là ma trận mở rộng của hệ phương trình Ax = b</li>\n",
    "<li>Output: ma trận có dạng bậc thang có được từ ma trận A</li>\n",
    "<p>Không được sử dụng các hàm có sẵn của thư viện để tìm ma trận bậc thang</p>"
   ]
  },
  {
   "cell_type": "markdown",
   "id": "68ea5e82-ebb5-4654-841d-dda25f442404",
   "metadata": {},
   "source": [
    "<strong>Giải thuật</strong>\n",
    "<li>Bước 1: Duyệt lần lượt các cột, xác định cột có các phần tử không đồng thời bằng 0</li>\n",
    "<li>Bước 2: Tìm phần tử khác 0 đầu tiên trong cột và hoán vị dòng đang xét với dòng chứa phần tử đó</li>\n",
    "<li>Bước 3: Tìm các số k thích hợp sao cho k nhân với phần tử ở dòng đang xét cộng với các phần tử phía dưới bằng 0</li>\n",
    "<li>Làm cho tới khi duyệt qua hết tất cả các cột, ta sẽ thu được ma trận bậc thang</li>"
   ]
  },
  {
   "cell_type": "code",
   "execution_count": 29,
   "id": "12da75de-0865-4835-847e-490eaec9cc9e",
   "metadata": {},
   "outputs": [],
   "source": [
    "import numpy as np\n",
    "np.set_printoptions(suppress=True)  # Không hiển thị số thực theo dạng số khoa học: 1e-xx\n",
    "\n",
    "def Gauss_elimination(A):\n",
    "    rows, cols = A.shape\n",
    "\n",
    "    for c in range(cols):   # Duyệt qua từng cột\n",
    "        if np.all(A[:, c] == 0):    # Nếu tất cả các phần tử trong cột c đều bằng 0 thì bỏ qua\n",
    "            continue\n",
    "\n",
    "        pivot = None\n",
    "        for r in range(c, rows):    # Tìm phần tử pivot khác 0 đầu tiên trong cột c\n",
    "            if A[r, c] != 0:\n",
    "                pivot = r\n",
    "                break\n",
    "\n",
    "        if pivot is None:\n",
    "            continue\n",
    "\n",
    "        # Hoán vị dòng chứa pivot lên vị trí của dòng c\n",
    "        A[[c, pivot]] = A[[pivot, c]]\n",
    "\n",
    "        # Biến các phần tử dưới pivot về 0\n",
    "        for r in range(c + 1, rows):   \n",
    "            factor = A[r, c] / A[c, c]\n",
    "            A[r] = A[r] -  factor * A[c]\n",
    "\n",
    "    return A"
   ]
  },
  {
   "cell_type": "code",
   "execution_count": 30,
   "id": "f19b08c8-26ae-461e-882d-a70e08a38b68",
   "metadata": {},
   "outputs": [
    {
     "name": "stdout",
     "output_type": "stream",
     "text": [
      "Ma tran ban dau: \n",
      "[[ 1.  2.  0.  2.  6.]\n",
      " [ 3.  5. -1.  6. 17.]\n",
      " [ 2.  4.  1.  2. 12.]\n",
      " [ 2.  0. -7. 11.  7.]]\n",
      "\n",
      "\n",
      "Ma tran bac thang:\n",
      "[[ 1.  2.  0.  2.  6.]\n",
      " [ 0. -1. -1.  0. -1.]\n",
      " [ 0.  0.  1. -2.  0.]\n",
      " [ 0.  0.  0.  1. -1.]]\n",
      "\n",
      "\n"
     ]
    }
   ],
   "source": [
    "# Các test case\n",
    "# A = np.array(\n",
    "#     [[1, 2, -1, -1], \n",
    "#     [2, 2, 1, 1],\n",
    "#     [3, 5, -2, -1]], dtype=float)\n",
    "\n",
    "# A = np.array(\n",
    "#    [[1, -2, -1, 1], \n",
    "#    [2, -3, 1, 6],\n",
    "#    [3, -5, 0, 7],\n",
    "#    [1, 0, 5, 9]], dtype=float)\n",
    "    \n",
    "# A = np.array(\n",
    "#     [[2, -4, -1, 1], \n",
    "#     [1, -3, 1, 1],\n",
    "#     [3, -5, -3, 2]], dtype=float)\n",
    "\n",
    "A = np.array(\n",
    "     [[1, 2, 0, 2, 6],\n",
    "     [3, 5, -1, 6, 17],\n",
    "     [2, 4, 1, 2, 12],\n",
    "     [2, 0, -7, 11, 7]], dtype=float)\n",
    "\n",
    "# A = np.array(\n",
    "#     [[2, -4, 6, 8],\n",
    "#     [1, -1, 1, -1],\n",
    "#     [1, -3, 4, 0]], dtype=float)\n",
    "    \n",
    "\n",
    "# A = np.array(\n",
    "#     [[1, 2, -2, 3], \n",
    "#     [3, -1, 1, 1],\n",
    "#     [-1, 5, -5, 5]], dtype=float)\n",
    "\n",
    "print ('Ma tran ban dau: ')\n",
    "print(A)\n",
    "print ('\\n')\n",
    "\n",
    "print ('Ma tran bac thang:')\n",
    "A = Gauss_elimination(A)\n",
    "print(A)\n",
    "print ('\\n')"
   ]
  },
  {
   "cell_type": "markdown",
   "id": "89e9cd23-04e5-478d-a583-2b95c05d6aae",
   "metadata": {},
   "source": [
    "### 2> Phép thế ngược (Back Substitution)\n",
    "<p>Viết hàm back_substitution(A), trong đó</p>\n",
    "<li>Input: A, là ma trận có dạng bậc thang thu được từ ma trận mở rộng của hệ phương trình Ax = b</li>\n",
    "<li>Output: nghiệm của hệ phương trình (trường hợp nghiệm duy nhất/vô số nghiệm) hoặc thông báo hệ phương trình vô nghiệm</li>\n",
    "<p>Không được sử dụng các hàm có sẵn của các thư viện để tìm nghiệm phương trình</p>"
   ]
  },
  {
   "cell_type": "markdown",
   "id": "40d30b41-141f-4424-b22c-0c8b50f7c8a9",
   "metadata": {},
   "source": [
    "<strong>Giải thuật</strong>\n",
    "<ul>\n",
    "    <li>Bước 1: Tính hạng của ma trận Ab (ma trận mở rộng) và ma trận A</li>\n",
    "    <li>\n",
    "        <p>Bước 2: Biện luận nghiệm của hệ phương trình</p>\n",
    "        <p>Nếu rank_A < rank_Ab thì hệ phương trình vô nghiệm</p>\n",
    "        <p>\n",
    "            Nếu rank_A = rank_Ab < n (số ẩn) thì hệ phương trình có vô số nghiệm. Để tìm nghiệm tổng quát, ta sẽ lưu các nghiệm dưới dạng vector và tìm\n",
    "                                     số ẩn tự do của hệ.\n",
    "            Ví dụ hệ có 1 ẩn tự do thì vector dạng [x, x] (x đầu lưu giá trị số, x thứ 2 lưu ẩn tự do. Ban đầu ta sẽ khởi tạo các vector bằng 0. Ví dụ hệ có 3 ẩn với x3 là ẩn tự do thì \n",
    "                                     x3 = [0, 1], số 4 lưu dạng vector là [4, 0], nên phương trình x2 + 3 * x3 = 4 với x3 là ẩn tự do thì \n",
    "            x2 = 4 - 3 * x3 = [4, 0] - 3 * [0, 1] = [4, -3]. Vector này chính là biểu diễn nghiệm của x2 = 4 - 3 * x3\n",
    "            Giải lần lượt từ dưới lên giống phương pháp tìm nghiệm ở trường hợp thứ 3 rank_A = rank_Ab bên dưới để tìm các nghiệm còn lại\n",
    "        </p>\n",
    "        <p>\n",
    "            Nếu rank_A = rank_Ab thì hệ phương trình có nghiệm duy nhất. Để tìm nghiệm ta duyệt từ dòng cuối lên đầu và giải phương trình\n",
    "            A[i][i] * x[i] + s = A[i][n] với A[i][i] là phần tử trên đường chéo chính, s là tổng các phần tử trên đường chéo chính phía sau phần tử \n",
    "            A[i][i], rồi suy ra x[i] là nghiệm thứ i cần tìm\n",
    "        </p>\n",
    "    </li>\n",
    "</ul>\n"
   ]
  },
  {
   "cell_type": "code",
   "execution_count": 31,
   "id": "5d2605a3-c557-4c41-80db-179d2eb79b4a",
   "metadata": {},
   "outputs": [
    {
     "name": "stdout",
     "output_type": "stream",
     "text": [
      "He phuong trinh co nghiem duy nhat: \n",
      "[2.0, 3.0, -2.0, -1.0]\n"
     ]
    }
   ],
   "source": [
    "def back_substitution(A):   # Giải hệ phương trình bằng phương pháp thế ngược\n",
    "    rank_A = np.linalg.matrix_rank([row[:-1] for row in A]) # Hạng của ma trận không có cột cuối cùng\n",
    "    rank_Ab = np.linalg.matrix_rank(A)  # Hạng của ma trận có cột cuối cùng\n",
    "\n",
    "    n = A.shape[1] - 1  # Số biến/số ẩn\n",
    "\n",
    "    if rank_A < rank_Ab:\n",
    "        return \"He phuong trinh vo nghiem\"\n",
    "    elif rank_A == rank_Ab < n:\n",
    "        anTuDo = n - rank_A\n",
    "        return f\"He phuong trinh co vo so nghiem, voi {anTuDo} an tu do\"\n",
    "        #Phần hệ phương trình có vô số nghiệm này em chỉ có ý tưởng như giải thuật đã trình bày ở trên chứ code chưa được\n",
    "    else:  \n",
    "        print('He phuong trinh co nghiem duy nhat: ')\n",
    "        x = [0] * n #Tao mang chua nghiem cua he phuong trinh\n",
    "        for i in range(n-1, -1, -1): # Duyet tu dong cuoi cung den dong dau tien\n",
    "            if A[i][i] != 0:    # Neu phan tu tren duong cheo chinh khac 0\n",
    "                s = sum(A[i][j] * x[j] for j in range(i, n)) # Tinh tong cac phan tu tren duong cheo phia sau phan tu A[i][i]\n",
    "                x[i] = (A[i][n] - s) / A[i][i]  # Tinh nghiem cua phuong trinh A[i][i] * x[i] + s =  A[i][n]\n",
    "        return x\n",
    "\n",
    "print(back_substitution(A))"
   ]
  }
 ],
 "metadata": {
  "kernelspec": {
   "display_name": "Python 3 (ipykernel)",
   "language": "python",
   "name": "python3"
  },
  "language_info": {
   "codemirror_mode": {
    "name": "ipython",
    "version": 3
   },
   "file_extension": ".py",
   "mimetype": "text/x-python",
   "name": "python",
   "nbconvert_exporter": "python",
   "pygments_lexer": "ipython3",
   "version": "3.11.7"
  }
 },
 "nbformat": 4,
 "nbformat_minor": 5
}
