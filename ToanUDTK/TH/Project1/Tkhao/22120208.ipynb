{
 "cells": [
  {
   "cell_type": "markdown",
   "id": "be13a680-2c30-4b68-8428-16f683252461",
   "metadata": {},
   "source": [
    "# TOÁN ỨNG DỤNG VÀ THỐNG KÊ"
   ]
  },
  {
   "cell_type": "markdown",
   "id": "5ce8261f-7f41-45e5-bb9b-2ad1d9da3b66",
   "metadata": {},
   "source": [
    "## Bài tập 1: Giải hệ phương trình tuyến tính Ax=B bằng phép khử Gauss và phép thế ngược"
   ]
  },
  {
   "cell_type": "markdown",
   "id": "33666162-a0e4-4f2f-8a24-9e8b30e6b705",
   "metadata": {},
   "source": [
    "|***Tên lớp: CQ2022/2***|\n",
    "|---|\n",
    "|***Họ và tên: Hoàng Hồ Nhật Minh***|\n",
    "|***MSSV: 22120208***|"
   ]
  },
  {
   "cell_type": "markdown",
   "id": "0aac4fcd-ec6c-404d-986d-a6751bd716d0",
   "metadata": {},
   "source": [
    "### Phần 1: Phép khử Gauss (Gauss Elimination)"
   ]
  },
  {
   "cell_type": "markdown",
   "id": "0a049416-21e4-4673-a743-e5e025320bd1",
   "metadata": {},
   "source": [
    "**1. Yêu cầu:**\n"
   ]
  },
  {
   "cell_type": "markdown",
   "id": "d275b424-bcba-4db6-8137-88781b0b8406",
   "metadata": {},
   "source": [
    "- **Input:** Nhập vào ma trận mở rộng A của hệ phương trình.\n",
    "- **Output:** Ma trận có dạng bậc thang có được từ ma trận A."
   ]
  },
  {
   "cell_type": "markdown",
   "id": "c7e02a0a-32ec-4432-9b89-7a1e0e4c1398",
   "metadata": {},
   "source": [
    "**2. Giải thuật:**"
   ]
  },
  {
   "cell_type": "markdown",
   "id": "17d2215f-2721-4186-891d-3b48721b27c5",
   "metadata": {},
   "source": [
    "- **Bước 1:** Xác định cột trái nhất chưa toàn số 0.\n",
    "- **Bước 2:** Đổi chỗ hai dòng, nếu cần thiết, để đưa số hạng khác 0 nào đó ở dưới về đầu cột nhận được ở **Bước 1**.\n",
    "- **Bước 3:** Với số hạng đầu cột nhận được từ **Bước 2** là $a \\neq 0$, nhân dòng chứa nó với $ \\frac{1}{a} $ để có **số dẫn đầu 1**.\n",
    "- **Bước 4:** Cộng một bội số thích hợp của dòng đầu cho từng dòng dưới để biến các số hạng bên dưới số dẫn đầu thành 0.\n",
    "- **Bước 5:** Che dòng đầu đã làm xong. Lặp lại các bước cho đến khi được ma trận bậc thang."
   ]
  },
  {
   "cell_type": "markdown",
   "id": "53afc577-e485-4598-8d06-52b8213ac39e",
   "metadata": {},
   "source": [
    "#### Code:"
   ]
  },
  {
   "cell_type": "code",
   "execution_count": 1,
   "id": "927a9ef6-1e79-484a-92d4-d5dd3376c174",
   "metadata": {},
   "outputs": [
    {
     "name": "stdout",
     "output_type": "stream",
     "text": [
      "Ma trận mở rộng đã nhập: \n",
      "[[ 3 -3  3 -3]\n",
      " [-1 -5  2  4]\n",
      " [ 0 -4  2  2]\n",
      " [ 3 -1  2 -4]]\n",
      "Ma trận bậc thang của ma trận mở rộng đã nhập là:\n",
      "[[ 1.  -1.   1.  -1. ]\n",
      " [-0.   1.  -0.5 -0.5]\n",
      " [ 0.   0.   0.   0. ]\n",
      " [ 0.   0.   0.   0. ]]\n"
     ]
    }
   ],
   "source": [
    "import numpy as np\n",
    "\n",
    "def Gauss_elimination(matrix):\n",
    "    # Chuyển đổi ma trận sang kiểu float\n",
    "    matrix = matrix.astype(float)\n",
    "    m, n = matrix.shape\n",
    "\n",
    "    for pivot in range(min(m, n)):\n",
    "        # Tìm hàng đầu tiên có phần tử khác không ở cột hiện tại\n",
    "        for swap in range(pivot, m):\n",
    "            if matrix[swap, pivot] != 0:\n",
    "                break\n",
    "        else:\n",
    "            continue\n",
    "\n",
    "        # Đổi chỗ hai hàng nếu hàng đầu tiên có phần tử khác không không phải là hàng hiện tại\n",
    "        if swap != pivot:\n",
    "            matrix[[pivot, swap]] = matrix[[swap, pivot]]\n",
    "\n",
    "        # Chia hàng hiện tại cho phần tử chính để biến nó thành 1\n",
    "        matrix[pivot] /= matrix[pivot, pivot]\n",
    "\n",
    "        # Trừ các hàng dưới đi một bội số của hàng hiện tại để biến các phần tử dưới phần tử chính thành 0\n",
    "        for row in range(pivot + 1, m):\n",
    "            matrix[row] -= matrix[pivot] * matrix[row, pivot] / matrix[pivot, pivot]\n",
    "\n",
    "    return matrix\n",
    "\n",
    "\n",
    "#A = np.array([[1,-1,1,-3,0],[2,-1,4,-2,0]])\n",
    "A = np.array([[3,-3,3,-3],[-1,-5,2,4],[0,-4,2,2],[3,-1,2,-4]])\n",
    "print (f\"Ma trận mở rộng đã nhập: \\n{A}\")\n",
    "print('Ma trận bậc thang của ma trận mở rộng đã nhập là:')\n",
    "Matrix = Gauss_elimination(A)\n",
    "print(Matrix)"
   ]
  },
  {
   "cell_type": "markdown",
   "id": "9ac6fa6f-0b87-4768-805e-724019983b84",
   "metadata": {},
   "source": [
    "--------"
   ]
  },
  {
   "cell_type": "markdown",
   "id": "a42da1e5-ec2e-4312-b4e6-2427a64f6a4e",
   "metadata": {},
   "source": [
    "### Phần 2: Phép thế ngược (Back substitution)\n"
   ]
  },
  {
   "cell_type": "markdown",
   "id": "96b5b709-b659-42de-ac0d-6d1312574320",
   "metadata": {},
   "source": [
    "**1. Yêu cầu:**\n"
   ]
  },
  {
   "cell_type": "markdown",
   "id": "a4fa3bcf-fdb0-43d4-94de-c9a3269f354f",
   "metadata": {},
   "source": [
    "- **Input:** Ma trận bậc thang có được từ mà trận mở rộng của hệ phương trình $Ax=b$.\n",
    "- **Ouput:** Nghiệm của phương trình (trường hợp có duy nhất một hoặc vô số nghiệm), nếu vô nghiệm cần phải thông báo."
   ]
  },
  {
   "cell_type": "markdown",
   "id": "34eb9640-5ab9-4115-ad4a-2b5ee10045d4",
   "metadata": {},
   "source": [
    "**2. Giải thuật:**"
   ]
  },
  {
   "cell_type": "markdown",
   "id": "5d6104fa-bc49-4ba1-a178-495a92038526",
   "metadata": {},
   "source": [
    "- **Bước 1:** Kiểm tra rank của ma trận A và ma trận mở rộng Aug.\n",
    "- **Bước 2:** Xét 3 trường hợp:.\n",
    "    - **TH1:** Rank(A) = Rank(Aug) = số ẩn. Kết luận hệ có nghiệm duy nhất và in ra nghiệm.\n",
    "    - **TH2:** Rank(A) = Rank(Aug) < số ẩn. Kết luận hệ vô số nghiệm và in ra nghiệm tổng quát.\n",
    "    - **TH3:** Rank(A) < Rank(Aug). Kết luận hệ vô nghiệm."
   ]
  },
  {
   "cell_type": "markdown",
   "id": "12218d2d-8049-4cdf-908e-17b57580619f",
   "metadata": {},
   "source": [
    "#### Code:"
   ]
  },
  {
   "cell_type": "code",
   "execution_count": 5,
   "id": "8018891e-9b7b-44d1-b331-8a188465b352",
   "metadata": {},
   "outputs": [
    {
     "name": "stdout",
     "output_type": "stream",
     "text": [
      "Nghiệm tổng quát của hệ phương trình là:\n",
      "x1 = -0.5*c - 1.5\n",
      "x2 = 0.5*c - 0.5\n",
      "x3 = c\n",
      "Hệ có vô số nghiệm\n"
     ]
    }
   ],
   "source": [
    "\n",
    "import sympy as sp\n",
    "\n",
    "def to_rref(matrix):\n",
    "    m, n = matrix.shape\n",
    "    r = 0\n",
    "\n",
    "    for c in range(n):\n",
    "        if r == m:\n",
    "            break\n",
    "        pivot = np.argmax(np.abs(matrix[r:m, c])) + r\n",
    "        if matrix[pivot, c] != 0:\n",
    "            matrix[[r, pivot]] = matrix[[pivot, r]]\n",
    "            matrix[r] = matrix[r] / matrix[r, c]\n",
    "            for i in range(m):\n",
    "                if i != r:\n",
    "                    matrix[i] = matrix[i] - matrix[r] * matrix[i, c]\n",
    "            r += 1\n",
    "    return matrix\n",
    "\n",
    "def Back_substitution(matrix):\n",
    "    m, n = matrix.shape\n",
    "    rref_matrix = to_rref(matrix.copy())\n",
    "    \n",
    "    # Kiểm tra xem hệ có nghiệm duy nhất hay vô số nghiệm\n",
    "    rank_A = np.linalg.matrix_rank(matrix)\n",
    "    rank_Aug = np.linalg.matrix_rank(rref_matrix)\n",
    "    \n",
    "    if rank_A == rank_Aug == n-1:\n",
    "        # Hệ có một nghiệm duy nhất\n",
    "        solution = [0 for _ in range(n-1)]\n",
    "        for i in range(m-1, -1, -1):\n",
    "            if rref_matrix[i, i] == 0:\n",
    "                continue\n",
    "            solution[i] = rref_matrix[i, -1] / rref_matrix[i, i]\n",
    "            for k in range(i-1, -1, -1):\n",
    "                rref_matrix[k, -1] -= rref_matrix[k, i] * solution[i]\n",
    "        return \"Hệ có một nghiệm duy nhất: \" + str(solution)\n",
    "    elif rank_A == rank_Aug < n-1:\n",
    "        # Hệ có vô số nghiệm\n",
    "        print_general_solution(matrix)\n",
    "        return \"Hệ có vô số nghiệm\"\n",
    "    else:\n",
    "        # Hệ không có nghiệm\n",
    "        return \"Hệ không có nghiệm\"\n",
    "\n",
    "def print_general_solution(matrix):\n",
    "    m, n = matrix.shape\n",
    "    rref_matrix = to_rref(matrix.copy())\n",
    "    \n",
    "    free_variables = [sp.symbols(f'{chr(97 + i)}') for i in range(n-1)]\n",
    "    general_solution = {var: 0 for var in free_variables}\n",
    "    \n",
    "    for i in range(m):\n",
    "        for j in range(n):\n",
    "            if rref_matrix[i, j] != 0:\n",
    "                general_solution[free_variables[j]] = rref_matrix[i, -1]\n",
    "                for k in range(j+1, n-1):\n",
    "                    general_solution[free_variables[j]] -= rref_matrix[i, k]*free_variables[k]\n",
    "                break\n",
    "    \n",
    "    for i in range(n-1):\n",
    "        if general_solution[free_variables[i]] == 0:\n",
    "            general_solution[free_variables[i]] = free_variables[i]\n",
    "    \n",
    "    print('Nghiệm tổng quát của hệ phương trình là:')\n",
    "    for i in range(n-1):\n",
    "        print(f'x{i+1} = {general_solution[free_variables[i]]}')\n",
    "    \n",
    "# Sử dụng hàm Back_substitution để kiểm tra và in ra nghiệm\n",
    "print(Back_substitution(Matrix))\n",
    "\n"
   ]
  },
  {
   "cell_type": "code",
   "execution_count": null,
   "id": "d0321eb2-6de5-4023-9f9b-5ab8bd015cee",
   "metadata": {},
   "outputs": [],
   "source": []
  }
 ],
 "metadata": {
  "kernelspec": {
   "display_name": "Python 3 (ipykernel)",
   "language": "python",
   "name": "python3"
  },
  "language_info": {
   "codemirror_mode": {
    "name": "ipython",
    "version": 3
   },
   "file_extension": ".py",
   "mimetype": "text/x-python",
   "name": "python",
   "nbconvert_exporter": "python",
   "pygments_lexer": "ipython3",
   "version": "3.11.7"
  }
 },
 "nbformat": 4,
 "nbformat_minor": 5
}
