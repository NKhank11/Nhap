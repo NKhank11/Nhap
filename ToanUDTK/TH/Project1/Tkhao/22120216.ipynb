{
 "cells": [
  {
   "cell_type": "markdown",
   "id": "d783860b-b41c-4579-ae64-e904d570cdc4",
   "metadata": {},
   "source": [
    "## Môn học: Toán ứng dụng & thống kê\n",
    "### Lớp: CQ2022/2\n",
    "### Họ tên: Bùi Tấn Thành Nam\n",
    "### MSSV: 22120216 \n",
    "### Bài tập 1: Trình bày giải thuật giải hệ phương trình tuyến tính Ax = b với phép khử Gauss và phép thế ngược."
   ]
  },
  {
   "cell_type": "markdown",
   "id": "b2d459cb-43c7-4877-92f1-cc87a0134d25",
   "metadata": {},
   "source": [
    "### **Phép khử Gauss**\n",
    "\n",
    "Khử Gauss (Gaussian elimination) là một cách biến đổi tương đương dòng đưa ma trận về dạng bậc thang.\n",
    "\n",
    "1. **Yêu cầu**\n",
    "   - **Input:** Một ma trận $ A $ kích thước $ m \\times n $ ( $ m $ hàng, $ n $ cột) chứa các phần tử thuộc trường số thực.\n",
    "   - **Output:** Ma trận bậc thang sau khi áp dụng phép khử Gauss vào ma trận $ A $.\n",
    "\n",
    "2. **Giải thuật**\n",
    "   \n",
    "   - **Bước 1:** Xác định cột trái nhất không chứa toàn số 0.\n",
    "   \n",
    "   - **Bước 2:** Đổi chỗ hai dòng, nếu cần thiết, để đưa số hạng khác 0 nào đó ở dưới về đầu cột nhận được ở Bước 1. (Đơn giản nhất, có thể chọn dòng đầu tiên có số hạng khác 0. Phức tạp hơn, chiến lược \"partial pivoting\" chọn dòng có số hạng có trị tuyệt đối lớn nhất.)\n",
    "   \n",
    "   - **Bước 3:** Với số hạng đầu cột nhận được từ Bước 2 là $ a \\neq 0 $, nhân dòng chứa nó với $ \\frac{1}{a} $ để có số dẫn đầu 1 (leading 1). (Bước này tùy chọn.)\n",
    "   \n",
    "   - **Bước 4:** Cộng một bội số thích hợp của dòng đầu cho từng dòng dưới để biến các số hạng bên dưới số dẫn đầu thành 0.\n",
    "\n",
    "   - **Bước 5:** Che dòng đầu đã làm xong. Lặp lại các bước cho đến khi được ma trận bậc thang."
   ]
  },
  {
   "cell_type": "code",
   "execution_count": 9,
   "id": "1c7be0f7-3b6f-499e-ac98-7702045485b5",
   "metadata": {},
   "outputs": [],
   "source": [
    "from fractions import Fraction\n",
    "import numpy as np\n",
    "\n",
    "def Gauss_elimination(A, b):\n",
    "    #Gộp ma trận A và cột b \n",
    "    Matrix = np.hstack((A, b.reshape(-1, 1)))\n",
    "    m,n=Matrix.shape\n",
    "    current = 0\n",
    "\n",
    "    for col in range(n):\n",
    "        #Kiểm tra phần tử trong cột có gía trị đều là 0?\n",
    "        temp = current\n",
    "        while temp < m and Matrix[temp, col] == 0:\n",
    "            temp += 1\n",
    "        if temp == m:\n",
    "            #Nếu các phần tử trong cột đều có giá trị là 0 thì tiếp tục\n",
    "            continue\n",
    "        #Nếu không thì đổi giá trị hàng có phần tử khác 0 lên vị trị hàng đang xét\n",
    "        if temp != current:\n",
    "            Matrix[[current, temp]] = Matrix[[temp, current]]\n",
    "\n",
    "        #Nhân hàng với giá trị 1/divisor\n",
    "        divisor = Matrix[current, col]\n",
    "        Matrix[current] /= divisor\n",
    "\n",
    "        for row in range(current + 1, m):\n",
    "            factor = Matrix[row, col]\n",
    "            Matrix[row] -= factor * Matrix[current]\n",
    "        current += 1\n",
    "        if current == m:\n",
    "            break\n",
    "    \n",
    "    return Matrix"
   ]
  },
  {
   "cell_type": "code",
   "execution_count": 10,
   "id": "88608e2b-e000-4d82-a61a-06ef88b62728",
   "metadata": {},
   "outputs": [
    {
     "name": "stdout",
     "output_type": "stream",
     "text": [
      "Kết quả sau khi áp dụng phương pháp Gauss:\n",
      "[[ 1.         -0.5        -1.          0.5         0.25      ]\n",
      " [ 0.          0.          1.         -1.33333333  0.25      ]\n",
      " [ 0.          0.          0.          0.          0.        ]\n",
      " [ 0.          0.          0.          0.          0.        ]]\n"
     ]
    }
   ],
   "source": [
    "A = np.array([[4.0, -2.0, -4.0, 2.0],\n",
    "                          [6.0, -3.0, 0.0, -5.0],\n",
    "                          [8.0, -4.0, 28.0, -44.0],\n",
    "                          [-8.0, 4.0, -4.0, 12.0]])\n",
    "\n",
    "# Hệ số của các số hạng tự do\n",
    "b = np.array([1.0, 3.0, 11.0, -5.0])\n",
    "\n",
    "result = Gauss_elimination(A, b)\n",
    "print(\"Kết quả sau khi áp dụng phương pháp Gauss:\")\n",
    "\n",
    "print(result)"
   ]
  },
  {
   "cell_type": "markdown",
   "id": "40c1fbb9-6fde-497f-95af-0644970dbb71",
   "metadata": {},
   "source": [
    "### **Back-substitution**\n",
    "\n",
    "Hệ phương trình tuyến tính $ A\\mathbf{x} = \\mathbf{b} $ thường được giải bằng các bước:\n",
    "\n",
    "1. **Yêu cầu**\n",
    "   - **Input:** Một ma trận bậc thanh $ A $ kích thước $ m \\times n $ ( $ m $ hàng, $ n $ cột) chứa các phần tử thuộc trường số thực.\n",
    "   - **Output:** Nghiệm của Hệ phương trình tuyến tính $ A\\mathbf{x} = \\mathbf{b} $\n",
    "       - Có nghiệm đơn.\n",
    "       - Vô số nghiệm (đưa ra nghiệm tổng quát).\n",
    "       - Vô nghiệm.\n",
    "2. **Giải thuật**\n",
    "    - **Bước 1:** \n",
    "        - Kiểm tra ma trận các hệ số. Nếu có một dòng gồm toàn số 0 của A số tương ứng của b là một số khác 0 thì kết luận hệ vô nghiệm và kết thúc.\n",
    "        - Ngược lại, nếu dòng i có toàn bộ giá trị là 0 thì phương trình vô số nghiệm, đồng thời tính **Rank** của ma trận.\n",
    "    - **Bước 2:**\n",
    "        - Tạo ma trận $ X $ kích thước kích thước $ n \\times n $ có giá trị 0 để biểu diễn nghiệm hoặc nghiệm tổng quát của hệ phương trình tuyến tính.\n",
    "        - Kiếm tra nếu $ x_i $ là ẩn tự do thì gán giá trị $ X[i,i]= 1 $\n",
    "        - Dùng phép thế ngược **Back-substitution** tính và biểu diễn nghiệm của hệ phương trình tuyến tính ."
   ]
  },
  {
   "cell_type": "code",
   "execution_count": 7,
   "id": "bc31928e-f4bd-41a3-8ba6-815dc52b187f",
   "metadata": {},
   "outputs": [],
   "source": [
    "def Back_substitution(A):\n",
    "    m, n = A.shape\n",
    "    result = False\n",
    "    X = np.zeros((n, n), dtype=float)\n",
    "    X[n-1,n-1] = -1\n",
    "    rank = m\n",
    "    for row in range(m):\n",
    "        if np.all(A[row, :-1] == 0) and A[row, -1] != 0:\n",
    "            print(\"Phương trình vô nghiệm\")\n",
    "            return\n",
    "        elif np.all(A[row, :-1] == 0) and A[row, -1] == 0:\n",
    "            rank -= 1\n",
    "            result = True\n",
    "\n",
    "    if result:\n",
    "        print(\"Hệ phương trình có vô số nghiệm:\")\n",
    "    else:\n",
    "        print(\"Hệ phương trình có nghiệm duy nhất:\")\n",
    "    #Kiểm tra ẩn tự do trong ma trận \n",
    "    j = -1\n",
    "    for i in range(m):\n",
    "        j+= 1   \n",
    "        if (A[j,i])==0:\n",
    "            X[i,i]=1 \n",
    "            j-=1\n",
    "\n",
    "    #Phép thể ngược \n",
    "    for i in range(n - 2, -1, -1):\n",
    "        if X[i, i] != 1:\n",
    "            rank -= 1\n",
    "\n",
    "            for j in range(i + 1, n):\n",
    "                X[i,] = X[i,] - A[rank, j] * X[j,]\n",
    "    #Biểu nghiệm đơn và nghiệm tổng quát cảu hệ phương trình tuyến tính\n",
    "    for i in range(0, n - 1):\n",
    "        if X[i, i] == 1:\n",
    "            print(f'x{i + 1} = ',chr(97+i),' ∈ R')\n",
    "        else:\n",
    "            Eq = ''\n",
    "            for j in range(i + 1, n - 1):\n",
    "                if X[i,j] != 0:\n",
    "                    if Eq != '' and X[i, j] > 0:\n",
    "                        Eq += '+'\n",
    "                    fr = Fraction(X[i, j]).limit_denominator()    \n",
    "                    Eq += f'{fr}*'\n",
    "                    Eq +=chr(97 + j)\n",
    "                \n",
    "            if X[i, n - 1] > 0 and Eq != '':\n",
    "                Eq += '+'\n",
    "            if X[i, n - 1] != 0:\n",
    "                fr = Fraction(X[i, n-1]).limit_denominator()    \n",
    "                Eq += str(fr)\n",
    "            if X[i, n - 1] == 0 and Eq == '':\n",
    "                Eq += '0'\n",
    "\n",
    "            print(f'x{i + 1} = {Eq}')\n"
   ]
  },
  {
   "cell_type": "code",
   "execution_count": 11,
   "id": "831c2fc5-4b08-4a4a-8f47-583d6d4981bc",
   "metadata": {},
   "outputs": [
    {
     "name": "stdout",
     "output_type": "stream",
     "text": [
      "Kết quả sau khi áp dụng phương pháp Gauss:\n",
      "[[ 1.         -0.5        -1.          0.5         0.25      ]\n",
      " [ 0.          0.          1.         -1.33333333  0.25      ]\n",
      " [ 0.          0.          0.          0.          0.        ]\n",
      " [ 0.          0.          0.          0.          0.        ]]\n",
      "Hệ phương trình có vô số nghiệm:\n",
      "x1 = 1/2*b+5/6*d+1/2\n",
      "x2 =  b  ∈ R\n",
      "x3 = 4/3*d+1/4\n",
      "x4 =  d  ∈ R\n"
     ]
    }
   ],
   "source": [
    "A = np.array([[4.0, -2.0, -4.0, 2.0],\n",
    "                          [6.0, -3.0, 0.0, -5.0],\n",
    "                          [8.0, -4.0, 28.0, -44.0],\n",
    "                          [-8.0, 4.0, -4.0, 12.0]])\n",
    "\n",
    "# Hệ số của các số hạng tự do\n",
    "b = np.array([1.0, 3.0, 11.0, -5.0])\n",
    "\n",
    "result = Gauss_elimination(A, b)\n",
    "print(\"Kết quả sau khi áp dụng phương pháp Gauss:\")\n",
    "\n",
    "print(result)\n",
    "Back_substitution(result)\n"
   ]
  }
 ],
 "metadata": {
  "kernelspec": {
   "display_name": "Python 3 (ipykernel)",
   "language": "python",
   "name": "python3"
  },
  "language_info": {
   "codemirror_mode": {
    "name": "ipython",
    "version": 3
   },
   "file_extension": ".py",
   "mimetype": "text/x-python",
   "name": "python",
   "nbconvert_exporter": "python",
   "pygments_lexer": "ipython3",
   "version": "3.11.7"
  }
 },
 "nbformat": 4,
 "nbformat_minor": 5
}
