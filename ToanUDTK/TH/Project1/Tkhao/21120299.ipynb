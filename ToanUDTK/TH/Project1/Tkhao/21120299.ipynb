{
 "cells": [
  {
   "cell_type": "markdown",
   "id": "302f9743",
   "metadata": {},
   "source": [
    "# Đồ án 1\n",
    "## Môn học: Toán ứng dụng & thống kê\n",
    "### Lớp: CQ2022/2\n",
    "### Họ tên: Phan Cao Nguyên\n",
    "### MSSV: 21120299"
   ]
  },
  {
   "cell_type": "markdown",
   "id": "1c3452b4",
   "metadata": {},
   "source": [
    "---"
   ]
  },
  {
   "cell_type": "markdown",
   "id": "7ae2e002",
   "metadata": {},
   "source": [
    "## BÀI 1: PHÉP KHỬ GAUSS (GAUSSIAN ELIMINATION)"
   ]
  },
  {
   "cell_type": "markdown",
   "id": "99ca702b",
   "metadata": {},
   "source": [
    "<strong> Với một hệ phương trình tuyến tính (*), thực hiện các yêu cầu sau </strong>\n",
    "<li> Yêu cầu 1: Viết (*) dưới dạng phương trình ma trận A</li>\n",
    "<li> Yêu cầu 2: Không dùng hàm có sẵn của thư viện</li>\n",
    "<li> Yêu cầu 3: Viết hàm  Gauss_elimination(A), trong đó:  \n",
    "\n",
    "- **Input:** Ma trận mở rộng A  \n",
    "- **Output:** Ma trận có dạng bậc thang có được từ ma trận A\n",
    "</li>"
   ]
  },
  {
   "cell_type": "markdown",
   "id": "c1ebd948",
   "metadata": {},
   "source": [
    "<strong> Giải thuật: </strong>\n",
    "<li> Bước 1: Xác định cột đầu tiên không chứa toàn số 0. </li>\n",
    "<li> Bước 2: Đổi chỗ hai dòng, nếu cần thiết, để đưa số hạng khác 0 nào đó ở dưới về đầu cột nhận được ở bước 1. </li>\n",
    "<li> Bước 3: Với số hạng đầu cột nhận được từ bước 2 là a khác 0, nhân dòng 1 với 1/a để nhận được một số dẫn đầu (leading 1). </li>\n",
    "<li> Bước 4: Cộng một bội số thích hợp của dòng 1 với từng dòng dưới để biến các số hạng này về số 0. </li>\n",
    "<li> Bước 5: Loại bỏ các dòng đã làm xong. Trở lại bước 1 cho ma trận con này. </li>"
   ]
  },
  {
   "cell_type": "code",
   "execution_count": 1,
   "id": "84b85cd9",
   "metadata": {},
   "outputs": [],
   "source": [
    "import numpy as np\n",
    "\n",
    "def Gauss_elimination(A)->np.array:\n",
    "    row = len(A) # Số dòng\n",
    "    col = len(A[0]) # Số cột\n",
    "\n",
    "    # Thực hiện phép khử Gauss\n",
    "    column_now = 0;\n",
    "    for i in range(row):\n",
    "        # Tìm phần tử khác 0 tại cột i trong các hàng từ i đến n-1\n",
    "        pivot_row = i # Hàng có phần tử khác 0\n",
    "        \n",
    "        while (column_now < col):\n",
    "            while pivot_row < row and A[pivot_row][column_now] == 0:\n",
    "                pivot_row += 1\n",
    "\n",
    "            # Nếu không tìm thấy phần tử khác 0 bỏ qua cột column_now và tăng column_now lên 1\n",
    "            if pivot_row == row:\n",
    "                pivot_row = i\n",
    "                column_now += 1\n",
    "            else: break\n",
    "\n",
    "        if (column_now == col): break \n",
    "        \n",
    "        # Hoán đổi hàng có phần từ khác 0 và hàng i\n",
    "        temp = np.array(A[pivot_row])\n",
    "        A[pivot_row] = A[i]\n",
    "        A[i] = temp\n",
    "        \n",
    "        # Biến đổi phần tử chéo A[i][i] thành 1\n",
    "        pivot = A[i][column_now]\n",
    "        \n",
    "        for j in range(i, col):\n",
    "            A[i][j] /= pivot\n",
    "\n",
    "        # Loại bỏ phần tử A[l][i] trong các hàng từ i+1 đến n-1\n",
    "        for l in range(i + 1, row):\n",
    "            temp = A[l][column_now] # Cơ số để 2 hàng trừ nhau ra 0\n",
    "\n",
    "            for j in range(i, col):\n",
    "                A[l][j] -= temp * A[i][j]\n",
    "                \n",
    "        column_now += 1\n",
    "\n",
    "    return A"
   ]
  },
  {
   "cell_type": "code",
   "execution_count": 2,
   "id": "e4c11d16",
   "metadata": {},
   "outputs": [
    {
     "name": "stdout",
     "output_type": "stream",
     "text": [
      "Ma trận mở rông đã nhâp: \n",
      "[[  2.  -2.  -4.   2.   1.]\n",
      " [  6.   3.  -3.  -3.   3.]\n",
      " [  5.  -4.   7. -12.   5.]\n",
      " [ -8.   4.  -4.   9.  -5.]]\n",
      "Dạng ma trận bậc thang của ma trận mở rộng đã nhập: \n",
      "[[ 1.      -1.      -2.       1.       0.5    ]\n",
      " [ 0.       1.       1.      -1.       0.     ]\n",
      " [ 0.       0.       1.      -1.       0.15625]\n",
      " [ 0.       0.       0.       1.      -0.5    ]]\n"
     ]
    }
   ],
   "source": [
    "A = np.array([[2.0, -2.0, -4.0, 2.0, 1.0], \n",
    "     [6.0, 3.0, -3.0, -3.0, 3.0], \n",
    "     [5.0, -4.0, 7.0, -12.0, 5.0],\n",
    "     [-8.0, 4.0, -4.0, 9.0, -5.0]])\n",
    "\n",
    "print(f\"Ma trận mở rông đã nhâp: \\n{A}\")\n",
    "matrix = Gauss_elimination(A)\n",
    "print(f\"Dạng ma trận bậc thang của ma trận mở rộng đã nhập: \\n{matrix}\") "
   ]
  },
  {
   "cell_type": "markdown",
   "id": "43bf66c3",
   "metadata": {},
   "source": [
    "---"
   ]
  },
  {
   "cell_type": "markdown",
   "id": "91f5aaa0",
   "metadata": {},
   "source": [
    "## BÀI 2: PHÉP THẾ NGƯỢC (BACK SUBSTITUTION)"
   ]
  },
  {
   "cell_type": "markdown",
   "id": "437da906",
   "metadata": {},
   "source": [
    "<strong> Với một hệ phương trình tuyến tính (*), thực hiện các yêu cầu sau </strong>\n",
    "<li> Yêu cầu 1: Viết (*) dưới dạng phương trình ma trận A được chuyển đổi về dưới dạng bậc thang</li>\n",
    "<li> Yêu cầu 2: Không dùng hàm có sẵn của thư viện</li>\n",
    "<li> Yêu cầu 3: Viết hàm back_substitution(A), trong đó:  \n",
    "\n",
    "- **Input:** Ma trận mở rộng A|b với Ax=b\n",
    "- **Output:** Nghiệm của hệ phương trình ( trường hợp nghiệm duy nhất/ vô số nghiệm ) hoặc thông báo hệ phương trình vô nghiệm.\n",
    "</li>"
   ]
  },
  {
   "cell_type": "markdown",
   "id": "809446f8",
   "metadata": {},
   "source": [
    "<strong>Giải thuật:</strong>\n",
    "<li> Bước 1. Biện luận trên các dòng gồm toàn số 0 của ma trận các hệ số. Nếu có một dòng gồm toàn số 0 của A mà hệ số vế phải (tự do) tương ứng là một số khác 0 thì kết luận hệ vô nghiệm và giải thuật chấm dứt. Ngược lại, bỏ tất cả các dòng gồm toàn số 0 (của ma trận các hệ số cũng như của vectơ các hệ số vế phải (tự do)) và chuyển qua bước 2.</li>\n",
    "<li> Bước 2. Phép thế ngược (back substitution). Xác định các ẩn cơ sở là các ẩn tương ứng với các số dẫn đầu. Các ẩn còn lại được gọi là ẩn tự do (free variable). \n",
    "\n",
    "- Xét hai khả năng :\n",
    "\t- Không có ẩn tự do. Hệ có nghiệm duy nhất nhận được bằng cách giải từ dưới lên trên (backward).\n",
    "\t- Có ít nhất một ẩn tự do. Hệ có vô số nghiệm và nghiệm tổng quát nhận được bằng cách giải từ dưới lên tìm biểu thức của các ẩn dẫn đầu theo các tham số của ẩn tự do (tùy ý).\n",
    "</li>"
   ]
  },
  {
   "cell_type": "code",
   "execution_count": 3,
   "id": "66d1119b",
   "metadata": {},
   "outputs": [],
   "source": [
    "import string\n",
    "from sympy import symbols\n",
    "\n",
    "def isLeading(A: np.array, row: int, col: int) -> bool:\n",
    "    result = bool\n",
    "    check_sum = np.array(A[row][:col]).sum()\n",
    "\n",
    "    if check_sum == 0:\n",
    "        result = True\n",
    "    else:\n",
    "        result = False\n",
    "\n",
    "    return result\n",
    "\n",
    "def isZero(A: np.array) -> bool:\n",
    "    row, col = A.shape\n",
    "    result = True\n",
    "\n",
    "    for i in range(row):\n",
    "        for j in range(col):\n",
    "            if A[i][i] != 0:\n",
    "                result = False\n",
    "                return result\n",
    "            \n",
    "    return result\n",
    "\n",
    "def getMatrix(A: np.array) -> np.array:\n",
    "    return (A.T)[0:-1].copy().T\n",
    "\n",
    "def back_substitution(A) ->np.array:\n",
    "    # Lấy số hàng và cột của ma trận\n",
    "    row, col = A.shape\n",
    "    col -= 1\n",
    "\n",
    "    # Tạo một danh sách kết quả nghiệm\n",
    "    x = np.zeros(col)\n",
    "\n",
    "    # Xét từng hàng của ma trận bậc thang từ hàng cuối lên đầu\n",
    "    for i in range(row - 1, -1, -1):\n",
    "        colum = i\n",
    "\n",
    "        while (A[i][colum] == 0 and colum < col):\n",
    "            colum += 1\n",
    "\n",
    "        if (colum == col):\n",
    "            colum -= 1\n",
    "        \n",
    "        factor = A[i][colum] \n",
    "        const = A[i][col] # Giá trị hằng số\n",
    "        \n",
    "        # Nếu hệ số bằng 0 và hằng số khác 0 thì hệ phương trình vô nghiệm\n",
    "        if factor == 0 and const != 0:\n",
    "            print(\"Hệ phương trình vô nghiệm\")\n",
    "            return np.array(0)\n",
    "        elif factor == 0 and const == 0:\n",
    "            continue\n",
    "\n",
    "        alphabet = symbols(list(string.ascii_lowercase))\n",
    "        y = []\n",
    "        index = 0\n",
    "\n",
    "        # Duyệt trên đường bậc thang để đánh dấu nghiệm\n",
    "        for i in range(col):\n",
    "            i_rows = row - 1\n",
    "\n",
    "            for _ in range(row):\n",
    "                if A[i_rows][i] != 0:\n",
    "                    if isLeading(A, i_rows, i):\n",
    "                        y.append(0)\n",
    "                    else:\n",
    "                        y.append(alphabet[index])\n",
    "                        index += 1\n",
    "        \n",
    "                    break\n",
    "                else:\n",
    "                    i_rows -= 1\n",
    "\n",
    "        x = np.array(y)\n",
    "        \n",
    "        # Loại trừ trường hợp ma trận 0\n",
    "        if isZero(A) == True:\n",
    "            x = [alphabet[index] for index in range(col)]\n",
    "            return x\n",
    "\n",
    "    # back_substitution để tính nghiệm\n",
    "    i = col - 1\n",
    "    while i >= 0:\n",
    "        i_rows = row - 1\n",
    "\n",
    "        for _ in range(row):\n",
    "            if A[i_rows][i] != 0:\n",
    "                if isLeading(A, i_rows, i) == True:\n",
    "                    s = x.dot(getMatrix(A)[i_rows])\n",
    "                    x[i] = (A[i_rows][col] - s) / A[i_rows][i]\n",
    "\n",
    "                break\n",
    "            else:\n",
    "                i_rows -= 1\n",
    "        \n",
    "        i -= 1\n",
    "\n",
    "    return np.array(x).T"
   ]
  },
  {
   "cell_type": "code",
   "execution_count": 4,
   "id": "c2d8d231",
   "metadata": {},
   "outputs": [
    {
     "name": "stdout",
     "output_type": "stream",
     "text": [
      "Ma trận mở rông (A|b) đã nhâp: \n",
      "[[1 2 4 4]\n",
      " [0 1 2 8]\n",
      " [0 0 0 0]]\n",
      "Nghiệm của hệ phương trình: \n",
      "x1 = -12\n",
      "x2 = 8 - 2*a\n",
      "x3 = a\n"
     ]
    }
   ],
   "source": [
    "A = np.array([[1, 2, 4, 4],\n",
    "    [0, 1, 2, 8],\n",
    "    [0, 0, 0, 0]])\n",
    "\n",
    "\n",
    "print(f\"Ma trận mở rông (A|b) đã nhâp: \\n{A}\")\n",
    "\n",
    "x = back_substitution(A)\n",
    "\n",
    "if x.any():\n",
    "        print(\"Nghiệm của hệ phương trình: \")\n",
    "        for i in range(x.shape[0]):\n",
    "            print(f\"x{i+1} = {x[i]}\")"
   ]
  },
  {
   "cell_type": "markdown",
   "id": "3c3672b9",
   "metadata": {},
   "source": [
    "## Dùng thư viện"
   ]
  },
  {
   "cell_type": "code",
   "execution_count": 5,
   "id": "46e25ee4",
   "metadata": {},
   "outputs": [
    {
     "name": "stdout",
     "output_type": "stream",
     "text": [
      "{x1: -12, x2: 8 - 2*x3}\n"
     ]
    }
   ],
   "source": [
    "from sympy import symbols, solve, Eq\n",
    "\n",
    "# Khai báo biến\n",
    "x1, x2, x3 = symbols('x1 x2 x3')\n",
    "\n",
    "# Nhập hệ phương trình\n",
    "eq1 = Eq(x1 + 2*x2 + 4*x3, 4)\n",
    "eq2 = Eq(0*x1 + x2 + 2*x3, 8)\n",
    "eq3 = Eq(0*x1 + 0*x2 + 0*x3, 0)\n",
    "\n",
    "# Giải hệ phương trình\n",
    "sol = solve((eq1, eq2, eq3), (x1, x2, x3))\n",
    "\n",
    "# Hiển thị kết quả\n",
    "print(sol)"
   ]
  }
 ],
 "metadata": {
  "kernelspec": {
   "display_name": "Python 3 (ipykernel)",
   "language": "python",
   "name": "python3"
  },
  "language_info": {
   "codemirror_mode": {
    "name": "ipython",
    "version": 3
   },
   "file_extension": ".py",
   "mimetype": "text/x-python",
   "name": "python",
   "nbconvert_exporter": "python",
   "pygments_lexer": "ipython3",
   "version": "3.11.8"
  }
 },
 "nbformat": 4,
 "nbformat_minor": 5
}
